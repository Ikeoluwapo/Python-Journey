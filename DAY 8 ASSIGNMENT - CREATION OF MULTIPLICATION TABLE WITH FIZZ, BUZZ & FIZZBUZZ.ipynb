{
 "cells": [
  {
   "cell_type": "markdown",
   "metadata": {},
   "source": [
    "## Creation of Multiplication table using the FIZZBIZZ concept"
   ]
  },
  {
   "cell_type": "code",
   "execution_count": 1,
   "metadata": {},
   "outputs": [
    {
     "name": "stdout",
     "output_type": "stream",
     "text": [
      "Input number: 8\n",
      "8 x 1 = 8\n",
      "8 x 2 = 16\n",
      "8 x 3 = Fizz\n",
      "8 x 4 = 32\n",
      "8 x 5 = Buzz\n",
      "8 x 6 = Fizz\n",
      "8 x 7 = 56\n",
      "8 x 8 = 64\n",
      "8 x 9 = Fizz\n",
      "8 x 10 = Buzz\n",
      "8 x 11 = 88\n",
      "8 x 12 = Fizz\n"
     ]
    }
   ],
   "source": [
    "x = int(input(\"Input number: \"))\n",
    "\n",
    "for i in range(1, 13):\n",
    "    if i * x % 5 == 0 and i % 3 == 0:\n",
    "        print(f\"{x} x {i} = FizzBuzz\")\n",
    "    elif i * x % 5 == 0 and i % 3 != 0:\n",
    "        print(f\"{x} x {i} = Buzz\")\n",
    "    elif i * x % 3 == 0 and i % 5 != 0:\n",
    "        print (f\"{x} x {i} = Fizz\")\n",
    "    else:\n",
    "        print(f\"{x} x {i} = {x * i}\")"
   ]
  },
  {
   "cell_type": "code",
   "execution_count": null,
   "metadata": {},
   "outputs": [],
   "source": []
  }
 ],
 "metadata": {
  "kernelspec": {
   "display_name": "Python 3 (ipykernel)",
   "language": "python",
   "name": "python3"
  },
  "language_info": {
   "codemirror_mode": {
    "name": "ipython",
    "version": 3
   },
   "file_extension": ".py",
   "mimetype": "text/x-python",
   "name": "python",
   "nbconvert_exporter": "python",
   "pygments_lexer": "ipython3",
   "version": "3.11.4"
  }
 },
 "nbformat": 4,
 "nbformat_minor": 2
}
