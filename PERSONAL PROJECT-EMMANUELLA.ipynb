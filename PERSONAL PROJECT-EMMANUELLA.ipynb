{
 "cells": [
  {
   "cell_type": "code",
   "execution_count": 26,
   "id": "7922e897",
   "metadata": {},
   "outputs": [],
   "source": [
    "import pandas as pd\n",
    "import numpy as np\n",
    "import matplotlib.pyplot as plt\n",
    "import seaborn as sns"
   ]
  },
  {
   "cell_type": "markdown",
   "id": "a2232ece",
   "metadata": {},
   "source": [
    "## Exploratory data analysis for Uber"
   ]
  },
  {
   "cell_type": "code",
   "execution_count": 78,
   "id": "d07c6535",
   "metadata": {},
   "outputs": [
    {
     "data": {
      "text/html": [
       "<div>\n",
       "<style scoped>\n",
       "    .dataframe tbody tr th:only-of-type {\n",
       "        vertical-align: middle;\n",
       "    }\n",
       "\n",
       "    .dataframe tbody tr th {\n",
       "        vertical-align: top;\n",
       "    }\n",
       "\n",
       "    .dataframe thead th {\n",
       "        text-align: right;\n",
       "    }\n",
       "</style>\n",
       "<table border=\"1\" class=\"dataframe\">\n",
       "  <thead>\n",
       "    <tr style=\"text-align: right;\">\n",
       "      <th></th>\n",
       "      <th>START_DATE*</th>\n",
       "      <th>END_DATE*</th>\n",
       "      <th>CATEGORY*</th>\n",
       "      <th>START*</th>\n",
       "      <th>STOP*</th>\n",
       "      <th>MILES*</th>\n",
       "      <th>PURPOSE*</th>\n",
       "    </tr>\n",
       "  </thead>\n",
       "  <tbody>\n",
       "    <tr>\n",
       "      <th>0</th>\n",
       "      <td>1/1/2016 21:11</td>\n",
       "      <td>1/1/2016 21:17</td>\n",
       "      <td>Business</td>\n",
       "      <td>Fort Pierce</td>\n",
       "      <td>Fort Pierce</td>\n",
       "      <td>5.1</td>\n",
       "      <td>Meal/Entertain</td>\n",
       "    </tr>\n",
       "    <tr>\n",
       "      <th>1</th>\n",
       "      <td>1/2/2016 1:25</td>\n",
       "      <td>1/2/2016 1:37</td>\n",
       "      <td>Business</td>\n",
       "      <td>Fort Pierce</td>\n",
       "      <td>Fort Pierce</td>\n",
       "      <td>5.0</td>\n",
       "      <td>NaN</td>\n",
       "    </tr>\n",
       "    <tr>\n",
       "      <th>2</th>\n",
       "      <td>1/2/2016 20:25</td>\n",
       "      <td>1/2/2016 20:38</td>\n",
       "      <td>Business</td>\n",
       "      <td>Fort Pierce</td>\n",
       "      <td>Fort Pierce</td>\n",
       "      <td>4.8</td>\n",
       "      <td>Errand/Supplies</td>\n",
       "    </tr>\n",
       "    <tr>\n",
       "      <th>3</th>\n",
       "      <td>1/5/2016 17:31</td>\n",
       "      <td>1/5/2016 17:45</td>\n",
       "      <td>Business</td>\n",
       "      <td>Fort Pierce</td>\n",
       "      <td>Fort Pierce</td>\n",
       "      <td>4.7</td>\n",
       "      <td>Meeting</td>\n",
       "    </tr>\n",
       "    <tr>\n",
       "      <th>4</th>\n",
       "      <td>1/6/2016 14:42</td>\n",
       "      <td>1/6/2016 15:49</td>\n",
       "      <td>Business</td>\n",
       "      <td>Fort Pierce</td>\n",
       "      <td>West Palm Beach</td>\n",
       "      <td>63.7</td>\n",
       "      <td>Customer Visit</td>\n",
       "    </tr>\n",
       "  </tbody>\n",
       "</table>\n",
       "</div>"
      ],
      "text/plain": [
       "      START_DATE*       END_DATE* CATEGORY*       START*            STOP*  \\\n",
       "0  1/1/2016 21:11  1/1/2016 21:17  Business  Fort Pierce      Fort Pierce   \n",
       "1   1/2/2016 1:25   1/2/2016 1:37  Business  Fort Pierce      Fort Pierce   \n",
       "2  1/2/2016 20:25  1/2/2016 20:38  Business  Fort Pierce      Fort Pierce   \n",
       "3  1/5/2016 17:31  1/5/2016 17:45  Business  Fort Pierce      Fort Pierce   \n",
       "4  1/6/2016 14:42  1/6/2016 15:49  Business  Fort Pierce  West Palm Beach   \n",
       "\n",
       "   MILES*         PURPOSE*  \n",
       "0     5.1   Meal/Entertain  \n",
       "1     5.0              NaN  \n",
       "2     4.8  Errand/Supplies  \n",
       "3     4.7          Meeting  \n",
       "4    63.7   Customer Visit  "
      ]
     },
     "execution_count": 78,
     "metadata": {},
     "output_type": "execute_result"
    }
   ],
   "source": [
    "df=pd.read_csv('Uber.csv')\n",
    "\n",
    "df.head()"
   ]
  },
  {
   "cell_type": "markdown",
   "id": "f8b0ff04",
   "metadata": {},
   "source": [
    "#### To check the number of missing values in the data"
   ]
  },
  {
   "cell_type": "code",
   "execution_count": 3,
   "id": "887eed5d",
   "metadata": {},
   "outputs": [
    {
     "data": {
      "text/plain": [
       "START_DATE*      0\n",
       "END_DATE*        1\n",
       "CATEGORY*        1\n",
       "START*           1\n",
       "STOP*            1\n",
       "MILES*           0\n",
       "PURPOSE*       503\n",
       "dtype: int64"
      ]
     },
     "execution_count": 3,
     "metadata": {},
     "output_type": "execute_result"
    }
   ],
   "source": [
    "df.isna().sum()"
   ]
  },
  {
   "cell_type": "markdown",
   "id": "ec0a6089",
   "metadata": {},
   "source": [
    "#### to check for datatypes"
   ]
  },
  {
   "cell_type": "code",
   "execution_count": 4,
   "id": "e2b1ff34",
   "metadata": {},
   "outputs": [
    {
     "data": {
      "text/plain": [
       "START_DATE*     object\n",
       "END_DATE*       object\n",
       "CATEGORY*       object\n",
       "START*          object\n",
       "STOP*           object\n",
       "MILES*         float64\n",
       "PURPOSE*        object\n",
       "dtype: object"
      ]
     },
     "execution_count": 4,
     "metadata": {},
     "output_type": "execute_result"
    }
   ],
   "source": [
    "df.dtypes "
   ]
  },
  {
   "cell_type": "markdown",
   "id": "84ae0f6b",
   "metadata": {},
   "source": [
    "#### Change date from obeject to date"
   ]
  },
  {
   "cell_type": "code",
   "execution_count": 5,
   "id": "0c954dfb",
   "metadata": {},
   "outputs": [],
   "source": [
    "from datetime import datetime "
   ]
  },
  {
   "cell_type": "code",
   "execution_count": 156,
   "id": "eb5cd0c4",
   "metadata": {},
   "outputs": [],
   "source": [
    "df['START_DATE*'] = pd.to_datetime(df['START_DATE*'], errors = 'coerce')"
   ]
  },
  {
   "cell_type": "code",
   "execution_count": 157,
   "id": "c0da364d",
   "metadata": {},
   "outputs": [],
   "source": [
    "df['END_DATE*'] = pd.to_datetime(df['END_DATE*'], errors = 'coerce')"
   ]
  },
  {
   "cell_type": "code",
   "execution_count": 158,
   "id": "d0e0ae8c",
   "metadata": {},
   "outputs": [
    {
     "data": {
      "text/plain": [
       "START_DATE*    datetime64[ns]\n",
       "END_DATE*      datetime64[ns]\n",
       "CATEGORY*              object\n",
       "START*                 object\n",
       "STOP*                  object\n",
       "MILES*                float64\n",
       "PURPOSE*               object\n",
       "MONTHS                 object\n",
       "DAY                    object\n",
       "START_TIME             object\n",
       "dtype: object"
      ]
     },
     "execution_count": 158,
     "metadata": {},
     "output_type": "execute_result"
    }
   ],
   "source": [
    "df.dtypes\n",
    "#to check if type has been changed from object to date\n",
    "#there is a slight difference from single date conversion i.e pd.to_datetime() \n",
    "#then if multiple it would be pd[['','']].apply(pd.to_datetime)"
   ]
  },
  {
   "cell_type": "markdown",
   "id": "bc25c52e",
   "metadata": {},
   "source": [
    "#### to check the unique values under the category column"
   ]
  },
  {
   "cell_type": "code",
   "execution_count": 12,
   "id": "2c8b495c",
   "metadata": {},
   "outputs": [
    {
     "data": {
      "text/plain": [
       "array(['Business', 'Personal', nan], dtype=object)"
      ]
     },
     "execution_count": 12,
     "metadata": {},
     "output_type": "execute_result"
    }
   ],
   "source": [
    "df['CATEGORY*'].unique() "
   ]
  },
  {
   "cell_type": "markdown",
   "id": "336a0ebc",
   "metadata": {},
   "source": [
    "#### visualization of Categories in Uber"
   ]
  },
  {
   "cell_type": "code",
   "execution_count": 13,
   "id": "6bff8fcb",
   "metadata": {},
   "outputs": [
    {
     "data": {
      "image/png": "[encoded data removed]",
      "text/plain": [
       "<Figure size 400x300 with 1 Axes>"
      ]
     },
     "metadata": {},
     "output_type": "display_data"
    }
   ],
   "source": [
    "plt.figure(figsize = (4, 3))\n",
    "sns.set_style('whitegrid')\n",
    "sns.countplot(data = df, x = 'CATEGORY*', palette = 'rocket')\n",
    "plt.show()"
   ]
  },
  {
   "cell_type": "code",
   "execution_count": 14,
   "id": "14886990",
   "metadata": {},
   "outputs": [
    {
     "name": "stderr",
     "output_type": "stream",
     "text": [
      "C:\\Users\\OMOLADE ADEFUNKE\\AppData\\Local\\Temp\\ipykernel_5812\\1032236170.py:1: FutureWarning: ['CATEGORY*', 'START*', 'STOP*', 'PURPOSE*'] did not aggregate successfully. If any error is raised this will raise in a future version of pandas. Drop these columns/ops to avoid this warning.\n",
      "  df.agg(['max'])\n"
     ]
    },
    {
     "data": {
      "text/html": [
       "<div>\n",
       "<style scoped>\n",
       "    .dataframe tbody tr th:only-of-type {\n",
       "        vertical-align: middle;\n",
       "    }\n",
       "\n",
       "    .dataframe tbody tr th {\n",
       "        vertical-align: top;\n",
       "    }\n",
       "\n",
       "    .dataframe thead th {\n",
       "        text-align: right;\n",
       "    }\n",
       "</style>\n",
       "<table border=\"1\" class=\"dataframe\">\n",
       "  <thead>\n",
       "    <tr style=\"text-align: right;\">\n",
       "      <th></th>\n",
       "      <th>START_DATE*</th>\n",
       "      <th>END_DATE*</th>\n",
       "      <th>MILES*</th>\n",
       "    </tr>\n",
       "  </thead>\n",
       "  <tbody>\n",
       "    <tr>\n",
       "      <th>max</th>\n",
       "      <td>2016-12-31 22:08:00</td>\n",
       "      <td>2016-12-31 23:51:00</td>\n",
       "      <td>12204.7</td>\n",
       "    </tr>\n",
       "  </tbody>\n",
       "</table>\n",
       "</div>"
      ],
      "text/plain": [
       "            START_DATE*           END_DATE*   MILES*\n",
       "max 2016-12-31 22:08:00 2016-12-31 23:51:00  12204.7"
      ]
     },
     "execution_count": 14,
     "metadata": {},
     "output_type": "execute_result"
    }
   ],
   "source": [
    "df.agg(['max'])"
   ]
  },
  {
   "cell_type": "code",
   "execution_count": 151,
   "id": "d66201f0",
   "metadata": {},
   "outputs": [
    {
     "data": {
      "text/plain": [
       "count     1156.000000\n",
       "mean        21.115398\n",
       "std        359.299007\n",
       "min          0.500000\n",
       "25%          2.900000\n",
       "50%          6.000000\n",
       "75%         10.400000\n",
       "max      12204.700000\n",
       "Name: MILES*, dtype: float64"
      ]
     },
     "execution_count": 151,
     "metadata": {},
     "output_type": "execute_result"
    }
   ],
   "source": [
    "miles = df['MILES*'].describe()\n",
    "\n",
    "miles"
   ]
  },
  {
   "cell_type": "code",
   "execution_count": 152,
   "id": "4f4d5593",
   "metadata": {},
   "outputs": [
    {
     "name": "stdout",
     "output_type": "stream",
     "text": [
      "People travel as far as 12204.7 miles using uber\n"
     ]
    }
   ],
   "source": [
    "print (f\"People travel as far as {miles[7]} miles using uber\")"
   ]
  },
  {
   "cell_type": "code",
   "execution_count": 154,
   "id": "64975d6c",
   "metadata": {},
   "outputs": [
    {
     "data": {
      "text/html": [
       "<div>\n",
       "<style scoped>\n",
       "    .dataframe tbody tr th:only-of-type {\n",
       "        vertical-align: middle;\n",
       "    }\n",
       "\n",
       "    .dataframe tbody tr th {\n",
       "        vertical-align: top;\n",
       "    }\n",
       "\n",
       "    .dataframe thead th {\n",
       "        text-align: right;\n",
       "    }\n",
       "</style>\n",
       "<table border=\"1\" class=\"dataframe\">\n",
       "  <thead>\n",
       "    <tr style=\"text-align: right;\">\n",
       "      <th></th>\n",
       "      <th>START_DATE*</th>\n",
       "      <th>END_DATE*</th>\n",
       "      <th>CATEGORY*</th>\n",
       "      <th>START*</th>\n",
       "      <th>STOP*</th>\n",
       "      <th>MILES*</th>\n",
       "      <th>PURPOSE*</th>\n",
       "      <th>MONTHS</th>\n",
       "      <th>DAY</th>\n",
       "      <th>START_TIME</th>\n",
       "    </tr>\n",
       "  </thead>\n",
       "  <tbody>\n",
       "    <tr>\n",
       "      <th>0</th>\n",
       "      <td>2016-01-01 21:11:00</td>\n",
       "      <td>1/1/2016 21:17</td>\n",
       "      <td>Business</td>\n",
       "      <td>Fort Pierce</td>\n",
       "      <td>Fort Pierce</td>\n",
       "      <td>5.1</td>\n",
       "      <td>Meal/Entertain</td>\n",
       "      <td>January</td>\n",
       "      <td>Friday</td>\n",
       "      <td>21:11:00</td>\n",
       "    </tr>\n",
       "    <tr>\n",
       "      <th>1</th>\n",
       "      <td>2016-01-02 01:25:00</td>\n",
       "      <td>1/2/2016 1:37</td>\n",
       "      <td>Business</td>\n",
       "      <td>Fort Pierce</td>\n",
       "      <td>Fort Pierce</td>\n",
       "      <td>5.0</td>\n",
       "      <td>NaN</td>\n",
       "      <td>January</td>\n",
       "      <td>Saturday</td>\n",
       "      <td>01:25:00</td>\n",
       "    </tr>\n",
       "    <tr>\n",
       "      <th>2</th>\n",
       "      <td>2016-01-02 20:25:00</td>\n",
       "      <td>1/2/2016 20:38</td>\n",
       "      <td>Business</td>\n",
       "      <td>Fort Pierce</td>\n",
       "      <td>Fort Pierce</td>\n",
       "      <td>4.8</td>\n",
       "      <td>Errand/Supplies</td>\n",
       "      <td>January</td>\n",
       "      <td>Saturday</td>\n",
       "      <td>20:25:00</td>\n",
       "    </tr>\n",
       "    <tr>\n",
       "      <th>3</th>\n",
       "      <td>2016-01-05 17:31:00</td>\n",
       "      <td>1/5/2016 17:45</td>\n",
       "      <td>Business</td>\n",
       "      <td>Fort Pierce</td>\n",
       "      <td>Fort Pierce</td>\n",
       "      <td>4.7</td>\n",
       "      <td>Meeting</td>\n",
       "      <td>January</td>\n",
       "      <td>Tuesday</td>\n",
       "      <td>17:31:00</td>\n",
       "    </tr>\n",
       "    <tr>\n",
       "      <th>4</th>\n",
       "      <td>2016-01-06 14:42:00</td>\n",
       "      <td>1/6/2016 15:49</td>\n",
       "      <td>Business</td>\n",
       "      <td>Fort Pierce</td>\n",
       "      <td>West Palm Beach</td>\n",
       "      <td>63.7</td>\n",
       "      <td>Customer Visit</td>\n",
       "      <td>January</td>\n",
       "      <td>Wednesday</td>\n",
       "      <td>14:42:00</td>\n",
       "    </tr>\n",
       "  </tbody>\n",
       "</table>\n",
       "</div>"
      ],
      "text/plain": [
       "          START_DATE*       END_DATE* CATEGORY*       START*            STOP*  \\\n",
       "0 2016-01-01 21:11:00  1/1/2016 21:17  Business  Fort Pierce      Fort Pierce   \n",
       "1 2016-01-02 01:25:00   1/2/2016 1:37  Business  Fort Pierce      Fort Pierce   \n",
       "2 2016-01-02 20:25:00  1/2/2016 20:38  Business  Fort Pierce      Fort Pierce   \n",
       "3 2016-01-05 17:31:00  1/5/2016 17:45  Business  Fort Pierce      Fort Pierce   \n",
       "4 2016-01-06 14:42:00  1/6/2016 15:49  Business  Fort Pierce  West Palm Beach   \n",
       "\n",
       "   MILES*         PURPOSE*   MONTHS        DAY START_TIME  \n",
       "0     5.1   Meal/Entertain  January     Friday   21:11:00  \n",
       "1     5.0              NaN  January   Saturday   01:25:00  \n",
       "2     4.8  Errand/Supplies  January   Saturday   20:25:00  \n",
       "3     4.7          Meeting  January    Tuesday   17:31:00  \n",
       "4    63.7   Customer Visit  January  Wednesday   14:42:00  "
      ]
     },
     "execution_count": 154,
     "metadata": {},
     "output_type": "execute_result"
    }
   ],
   "source": [
    "df['START_TIME'] = df['START_DATE*'].dt.time\n",
    "\n",
    "df.head()"
   ]
  },
  {
   "cell_type": "code",
   "execution_count": 159,
   "id": "198e745a",
   "metadata": {},
   "outputs": [
    {
     "data": {
      "text/html": [
       "<div>\n",
       "<style scoped>\n",
       "    .dataframe tbody tr th:only-of-type {\n",
       "        vertical-align: middle;\n",
       "    }\n",
       "\n",
       "    .dataframe tbody tr th {\n",
       "        vertical-align: top;\n",
       "    }\n",
       "\n",
       "    .dataframe thead th {\n",
       "        text-align: right;\n",
       "    }\n",
       "</style>\n",
       "<table border=\"1\" class=\"dataframe\">\n",
       "  <thead>\n",
       "    <tr style=\"text-align: right;\">\n",
       "      <th></th>\n",
       "      <th>START_DATE*</th>\n",
       "      <th>END_DATE*</th>\n",
       "      <th>CATEGORY*</th>\n",
       "      <th>START*</th>\n",
       "      <th>STOP*</th>\n",
       "      <th>MILES*</th>\n",
       "      <th>PURPOSE*</th>\n",
       "      <th>MONTHS</th>\n",
       "      <th>DAY</th>\n",
       "      <th>START_TIME</th>\n",
       "      <th>STOP_TIME</th>\n",
       "    </tr>\n",
       "  </thead>\n",
       "  <tbody>\n",
       "    <tr>\n",
       "      <th>0</th>\n",
       "      <td>2016-01-01 21:11:00</td>\n",
       "      <td>2016-01-01 21:17:00</td>\n",
       "      <td>Business</td>\n",
       "      <td>Fort Pierce</td>\n",
       "      <td>Fort Pierce</td>\n",
       "      <td>5.1</td>\n",
       "      <td>Meal/Entertain</td>\n",
       "      <td>January</td>\n",
       "      <td>Friday</td>\n",
       "      <td>21:11:00</td>\n",
       "      <td>21:17:00</td>\n",
       "    </tr>\n",
       "    <tr>\n",
       "      <th>1</th>\n",
       "      <td>2016-01-02 01:25:00</td>\n",
       "      <td>2016-01-02 01:37:00</td>\n",
       "      <td>Business</td>\n",
       "      <td>Fort Pierce</td>\n",
       "      <td>Fort Pierce</td>\n",
       "      <td>5.0</td>\n",
       "      <td>NaN</td>\n",
       "      <td>January</td>\n",
       "      <td>Saturday</td>\n",
       "      <td>01:25:00</td>\n",
       "      <td>01:37:00</td>\n",
       "    </tr>\n",
       "    <tr>\n",
       "      <th>2</th>\n",
       "      <td>2016-01-02 20:25:00</td>\n",
       "      <td>2016-01-02 20:38:00</td>\n",
       "      <td>Business</td>\n",
       "      <td>Fort Pierce</td>\n",
       "      <td>Fort Pierce</td>\n",
       "      <td>4.8</td>\n",
       "      <td>Errand/Supplies</td>\n",
       "      <td>January</td>\n",
       "      <td>Saturday</td>\n",
       "      <td>20:25:00</td>\n",
       "      <td>20:38:00</td>\n",
       "    </tr>\n",
       "    <tr>\n",
       "      <th>3</th>\n",
       "      <td>2016-01-05 17:31:00</td>\n",
       "      <td>2016-01-05 17:45:00</td>\n",
       "      <td>Business</td>\n",
       "      <td>Fort Pierce</td>\n",
       "      <td>Fort Pierce</td>\n",
       "      <td>4.7</td>\n",
       "      <td>Meeting</td>\n",
       "      <td>January</td>\n",
       "      <td>Tuesday</td>\n",
       "      <td>17:31:00</td>\n",
       "      <td>17:45:00</td>\n",
       "    </tr>\n",
       "    <tr>\n",
       "      <th>4</th>\n",
       "      <td>2016-01-06 14:42:00</td>\n",
       "      <td>2016-01-06 15:49:00</td>\n",
       "      <td>Business</td>\n",
       "      <td>Fort Pierce</td>\n",
       "      <td>West Palm Beach</td>\n",
       "      <td>63.7</td>\n",
       "      <td>Customer Visit</td>\n",
       "      <td>January</td>\n",
       "      <td>Wednesday</td>\n",
       "      <td>14:42:00</td>\n",
       "      <td>15:49:00</td>\n",
       "    </tr>\n",
       "  </tbody>\n",
       "</table>\n",
       "</div>"
      ],
      "text/plain": [
       "          START_DATE*           END_DATE* CATEGORY*       START*  \\\n",
       "0 2016-01-01 21:11:00 2016-01-01 21:17:00  Business  Fort Pierce   \n",
       "1 2016-01-02 01:25:00 2016-01-02 01:37:00  Business  Fort Pierce   \n",
       "2 2016-01-02 20:25:00 2016-01-02 20:38:00  Business  Fort Pierce   \n",
       "3 2016-01-05 17:31:00 2016-01-05 17:45:00  Business  Fort Pierce   \n",
       "4 2016-01-06 14:42:00 2016-01-06 15:49:00  Business  Fort Pierce   \n",
       "\n",
       "             STOP*  MILES*         PURPOSE*   MONTHS        DAY START_TIME  \\\n",
       "0      Fort Pierce     5.1   Meal/Entertain  January     Friday   21:11:00   \n",
       "1      Fort Pierce     5.0              NaN  January   Saturday   01:25:00   \n",
       "2      Fort Pierce     4.8  Errand/Supplies  January   Saturday   20:25:00   \n",
       "3      Fort Pierce     4.7          Meeting  January    Tuesday   17:31:00   \n",
       "4  West Palm Beach    63.7   Customer Visit  January  Wednesday   14:42:00   \n",
       "\n",
       "  STOP_TIME  \n",
       "0  21:17:00  \n",
       "1  01:37:00  \n",
       "2  20:38:00  \n",
       "3  17:45:00  \n",
       "4  15:49:00  "
      ]
     },
     "execution_count": 159,
     "metadata": {},
     "output_type": "execute_result"
    }
   ],
   "source": [
    "df['STOP_TIME'] = df['END_DATE*'].dt.time\n",
    "\n",
    "df.head()"
   ]
  },
  {
   "cell_type": "markdown",
   "id": "c493eeea",
   "metadata": {},
   "source": [
    "#### to get the hour most people take uber to their destinations"
   ]
  },
  {
   "cell_type": "code",
   "execution_count": 160,
   "id": "d931d0c7",
   "metadata": {},
   "outputs": [
    {
     "data": {
      "text/plain": [
       "count         1155\n",
       "unique         689\n",
       "top       17:50:00\n",
       "freq             6\n",
       "Name: START_TIME, dtype: object"
      ]
     },
     "execution_count": 160,
     "metadata": {},
     "output_type": "execute_result"
    }
   ],
   "source": [
    "hour = df['START_TIME'].describe()\n",
    "\n",
    "hour"
   ]
  },
  {
   "cell_type": "code",
   "execution_count": 161,
   "id": "5b53ace3",
   "metadata": {},
   "outputs": [
    {
     "name": "stdout",
     "output_type": "stream",
     "text": [
      "The hour most people take uber to their destinations is 17:50:00\n"
     ]
    }
   ],
   "source": [
    "print(f\"The hour most people take uber to their destinations is {hour[2]}\")"
   ]
  },
  {
   "cell_type": "code",
   "execution_count": 32,
   "id": "f9cf56f1",
   "metadata": {
    "scrolled": true
   },
   "outputs": [
    {
     "data": {
      "text/html": [
       "<div>\n",
       "<style scoped>\n",
       "    .dataframe tbody tr th:only-of-type {\n",
       "        vertical-align: middle;\n",
       "    }\n",
       "\n",
       "    .dataframe tbody tr th {\n",
       "        vertical-align: top;\n",
       "    }\n",
       "\n",
       "    .dataframe thead th {\n",
       "        text-align: right;\n",
       "    }\n",
       "</style>\n",
       "<table border=\"1\" class=\"dataframe\">\n",
       "  <thead>\n",
       "    <tr style=\"text-align: right;\">\n",
       "      <th></th>\n",
       "      <th>START_DATE*</th>\n",
       "      <th>END_DATE*</th>\n",
       "      <th>CATEGORY*</th>\n",
       "      <th>START*</th>\n",
       "      <th>STOP*</th>\n",
       "      <th>MILES*</th>\n",
       "      <th>PURPOSE*</th>\n",
       "      <th>START_TIME</th>\n",
       "      <th>STOP_TIME</th>\n",
       "      <th>Hours</th>\n",
       "    </tr>\n",
       "  </thead>\n",
       "  <tbody>\n",
       "    <tr>\n",
       "      <th>0</th>\n",
       "      <td>2016-01-01 21:11:00</td>\n",
       "      <td>2016-01-01 21:17:00</td>\n",
       "      <td>Business</td>\n",
       "      <td>Fort Pierce</td>\n",
       "      <td>Fort Pierce</td>\n",
       "      <td>5.1</td>\n",
       "      <td>Meal/Entertain</td>\n",
       "      <td>21:11:00</td>\n",
       "      <td>21:17:00</td>\n",
       "      <td>21.0</td>\n",
       "    </tr>\n",
       "    <tr>\n",
       "      <th>1</th>\n",
       "      <td>2016-01-02 01:25:00</td>\n",
       "      <td>2016-01-02 01:37:00</td>\n",
       "      <td>Business</td>\n",
       "      <td>Fort Pierce</td>\n",
       "      <td>Fort Pierce</td>\n",
       "      <td>5.0</td>\n",
       "      <td>NaN</td>\n",
       "      <td>01:25:00</td>\n",
       "      <td>01:37:00</td>\n",
       "      <td>1.0</td>\n",
       "    </tr>\n",
       "    <tr>\n",
       "      <th>2</th>\n",
       "      <td>2016-01-02 20:25:00</td>\n",
       "      <td>2016-01-02 20:38:00</td>\n",
       "      <td>Business</td>\n",
       "      <td>Fort Pierce</td>\n",
       "      <td>Fort Pierce</td>\n",
       "      <td>4.8</td>\n",
       "      <td>Errand/Supplies</td>\n",
       "      <td>20:25:00</td>\n",
       "      <td>20:38:00</td>\n",
       "      <td>20.0</td>\n",
       "    </tr>\n",
       "    <tr>\n",
       "      <th>3</th>\n",
       "      <td>2016-01-05 17:31:00</td>\n",
       "      <td>2016-01-05 17:45:00</td>\n",
       "      <td>Business</td>\n",
       "      <td>Fort Pierce</td>\n",
       "      <td>Fort Pierce</td>\n",
       "      <td>4.7</td>\n",
       "      <td>Meeting</td>\n",
       "      <td>17:31:00</td>\n",
       "      <td>17:45:00</td>\n",
       "      <td>17.0</td>\n",
       "    </tr>\n",
       "    <tr>\n",
       "      <th>4</th>\n",
       "      <td>2016-01-06 14:42:00</td>\n",
       "      <td>2016-01-06 15:49:00</td>\n",
       "      <td>Business</td>\n",
       "      <td>Fort Pierce</td>\n",
       "      <td>West Palm Beach</td>\n",
       "      <td>63.7</td>\n",
       "      <td>Customer Visit</td>\n",
       "      <td>14:42:00</td>\n",
       "      <td>15:49:00</td>\n",
       "      <td>14.0</td>\n",
       "    </tr>\n",
       "  </tbody>\n",
       "</table>\n",
       "</div>"
      ],
      "text/plain": [
       "          START_DATE*           END_DATE* CATEGORY*       START*  \\\n",
       "0 2016-01-01 21:11:00 2016-01-01 21:17:00  Business  Fort Pierce   \n",
       "1 2016-01-02 01:25:00 2016-01-02 01:37:00  Business  Fort Pierce   \n",
       "2 2016-01-02 20:25:00 2016-01-02 20:38:00  Business  Fort Pierce   \n",
       "3 2016-01-05 17:31:00 2016-01-05 17:45:00  Business  Fort Pierce   \n",
       "4 2016-01-06 14:42:00 2016-01-06 15:49:00  Business  Fort Pierce   \n",
       "\n",
       "             STOP*  MILES*         PURPOSE* START_TIME STOP_TIME  Hours  \n",
       "0      Fort Pierce     5.1   Meal/Entertain   21:11:00  21:17:00   21.0  \n",
       "1      Fort Pierce     5.0              NaN   01:25:00  01:37:00    1.0  \n",
       "2      Fort Pierce     4.8  Errand/Supplies   20:25:00  20:38:00   20.0  \n",
       "3      Fort Pierce     4.7          Meeting   17:31:00  17:45:00   17.0  \n",
       "4  West Palm Beach    63.7   Customer Visit   14:42:00  15:49:00   14.0  "
      ]
     },
     "execution_count": 32,
     "metadata": {},
     "output_type": "execute_result"
    }
   ],
   "source": [
    "df[\"Hours\"] = df[\"START_DATE*\"].dt.hour\n",
    "\n",
    "df.head()"
   ]
  },
  {
   "cell_type": "markdown",
   "id": "f4298327",
   "metadata": {},
   "source": [
    "#### Visualizing the number of Trips per Hour"
   ]
  },
  {
   "cell_type": "code",
   "execution_count": 40,
   "id": "0a52d4c4",
   "metadata": {},
   "outputs": [
    {
     "data": {
      "image/png": "[encoded data removed]",
      "text/plain": [
       "<Figure size 600x300 with 1 Axes>"
      ]
     },
     "metadata": {},
     "output_type": "display_data"
    }
   ],
   "source": [
    "plt.figure(figsize = (6, 3))\n",
    "sns.histplot(data = df, x = \"Hours\", color = 'purple')\n",
    "plt.title('Trips vs Hours')\n",
    "plt.ylabel('Number of Trips')\n",
    "sns.set_style('whitegrid')\n",
    "plt.show()"
   ]
  },
  {
   "cell_type": "markdown",
   "id": "ae2ebce7",
   "metadata": {},
   "source": [
    "#### Purpose of the trips"
   ]
  },
  {
   "cell_type": "code",
   "execution_count": 44,
   "id": "3d09294c",
   "metadata": {},
   "outputs": [
    {
     "data": {
      "text/plain": [
       "Meeting            187\n",
       "Meal/Entertain     160\n",
       "Errand/Supplies    128\n",
       "Customer Visit     101\n",
       "Temporary Site      50\n",
       "Between Offices     18\n",
       "Moving               4\n",
       "Airport/Travel       3\n",
       "Charity ($)          1\n",
       "Commute              1\n",
       "Name: PURPOSE*, dtype: int64"
      ]
     },
     "execution_count": 44,
     "metadata": {},
     "output_type": "execute_result"
    }
   ],
   "source": [
    "df['PURPOSE*'].value_counts()"
   ]
  },
  {
   "cell_type": "markdown",
   "id": "b389a572",
   "metadata": {},
   "source": [
    "#### Which day has the highest number of trips"
   ]
  },
  {
   "cell_type": "code",
   "execution_count": 83,
   "id": "dcc76a3e",
   "metadata": {},
   "outputs": [
    {
     "data": {
      "text/html": [
       "<div>\n",
       "<style scoped>\n",
       "    .dataframe tbody tr th:only-of-type {\n",
       "        vertical-align: middle;\n",
       "    }\n",
       "\n",
       "    .dataframe tbody tr th {\n",
       "        vertical-align: top;\n",
       "    }\n",
       "\n",
       "    .dataframe thead th {\n",
       "        text-align: right;\n",
       "    }\n",
       "</style>\n",
       "<table border=\"1\" class=\"dataframe\">\n",
       "  <thead>\n",
       "    <tr style=\"text-align: right;\">\n",
       "      <th></th>\n",
       "      <th>START_DATE*</th>\n",
       "      <th>END_DATE*</th>\n",
       "      <th>CATEGORY*</th>\n",
       "      <th>START*</th>\n",
       "      <th>STOP*</th>\n",
       "      <th>MILES*</th>\n",
       "      <th>PURPOSE*</th>\n",
       "      <th>MONTHS</th>\n",
       "      <th>DAY</th>\n",
       "    </tr>\n",
       "  </thead>\n",
       "  <tbody>\n",
       "    <tr>\n",
       "      <th>0</th>\n",
       "      <td>2016-01-01 21:11:00</td>\n",
       "      <td>1/1/2016 21:17</td>\n",
       "      <td>Business</td>\n",
       "      <td>Fort Pierce</td>\n",
       "      <td>Fort Pierce</td>\n",
       "      <td>5.1</td>\n",
       "      <td>Meal/Entertain</td>\n",
       "      <td>January</td>\n",
       "      <td>Friday</td>\n",
       "    </tr>\n",
       "    <tr>\n",
       "      <th>1</th>\n",
       "      <td>2016-01-02 01:25:00</td>\n",
       "      <td>1/2/2016 1:37</td>\n",
       "      <td>Business</td>\n",
       "      <td>Fort Pierce</td>\n",
       "      <td>Fort Pierce</td>\n",
       "      <td>5.0</td>\n",
       "      <td>NaN</td>\n",
       "      <td>January</td>\n",
       "      <td>Saturday</td>\n",
       "    </tr>\n",
       "    <tr>\n",
       "      <th>2</th>\n",
       "      <td>2016-01-02 20:25:00</td>\n",
       "      <td>1/2/2016 20:38</td>\n",
       "      <td>Business</td>\n",
       "      <td>Fort Pierce</td>\n",
       "      <td>Fort Pierce</td>\n",
       "      <td>4.8</td>\n",
       "      <td>Errand/Supplies</td>\n",
       "      <td>January</td>\n",
       "      <td>Saturday</td>\n",
       "    </tr>\n",
       "    <tr>\n",
       "      <th>3</th>\n",
       "      <td>2016-01-05 17:31:00</td>\n",
       "      <td>1/5/2016 17:45</td>\n",
       "      <td>Business</td>\n",
       "      <td>Fort Pierce</td>\n",
       "      <td>Fort Pierce</td>\n",
       "      <td>4.7</td>\n",
       "      <td>Meeting</td>\n",
       "      <td>January</td>\n",
       "      <td>Tuesday</td>\n",
       "    </tr>\n",
       "    <tr>\n",
       "      <th>4</th>\n",
       "      <td>2016-01-06 14:42:00</td>\n",
       "      <td>1/6/2016 15:49</td>\n",
       "      <td>Business</td>\n",
       "      <td>Fort Pierce</td>\n",
       "      <td>West Palm Beach</td>\n",
       "      <td>63.7</td>\n",
       "      <td>Customer Visit</td>\n",
       "      <td>January</td>\n",
       "      <td>Wednesday</td>\n",
       "    </tr>\n",
       "  </tbody>\n",
       "</table>\n",
       "</div>"
      ],
      "text/plain": [
       "          START_DATE*       END_DATE* CATEGORY*       START*            STOP*  \\\n",
       "0 2016-01-01 21:11:00  1/1/2016 21:17  Business  Fort Pierce      Fort Pierce   \n",
       "1 2016-01-02 01:25:00   1/2/2016 1:37  Business  Fort Pierce      Fort Pierce   \n",
       "2 2016-01-02 20:25:00  1/2/2016 20:38  Business  Fort Pierce      Fort Pierce   \n",
       "3 2016-01-05 17:31:00  1/5/2016 17:45  Business  Fort Pierce      Fort Pierce   \n",
       "4 2016-01-06 14:42:00  1/6/2016 15:49  Business  Fort Pierce  West Palm Beach   \n",
       "\n",
       "   MILES*         PURPOSE*   MONTHS        DAY  \n",
       "0     5.1   Meal/Entertain  January     Friday  \n",
       "1     5.0              NaN  January   Saturday  \n",
       "2     4.8  Errand/Supplies  January   Saturday  \n",
       "3     4.7          Meeting  January    Tuesday  \n",
       "4    63.7   Customer Visit  January  Wednesday  "
      ]
     },
     "execution_count": 83,
     "metadata": {},
     "output_type": "execute_result"
    }
   ],
   "source": [
    "df['DAY'] = df['START_DATE*'].dt.strftime('%A')#to get days of the week in words inside of number like daysofweek\n",
    "df[:5]"
   ]
  },
  {
   "cell_type": "code",
   "execution_count": 84,
   "id": "45b2ebf6",
   "metadata": {},
   "outputs": [
    {
     "data": {
      "text/plain": [
       "'Friday'"
      ]
     },
     "execution_count": 84,
     "metadata": {},
     "output_type": "execute_result"
    }
   ],
   "source": [
    "Highest_day = df['DAY'].value_counts().idxmax()\n",
    "Highest_day "
   ]
  },
  {
   "cell_type": "code",
   "execution_count": 85,
   "id": "21888c6b",
   "metadata": {},
   "outputs": [
    {
     "name": "stdout",
     "output_type": "stream",
     "text": [
      "The day with the highest number of trips is day Friday\n"
     ]
    }
   ],
   "source": [
    "print(f\"The day with the highest number of trips is day {Highest_day}\")"
   ]
  },
  {
   "cell_type": "code",
   "execution_count": 88,
   "id": "d1c2e617",
   "metadata": {},
   "outputs": [
    {
     "data": {
      "image/png": "[encoded data removed]",
      "text/plain": [
       "<Figure size 800x600 with 1 Axes>"
      ]
     },
     "metadata": {},
     "output_type": "display_data"
    }
   ],
   "source": [
    "#visualize the days\n",
    "plt.figure(figsize = (8,6))\n",
    "sns.countplot(data = df, x = 'DAY')\n",
    "plt.ylabel('Number  of trips')\n",
    "plt.show()"
   ]
  },
  {
   "cell_type": "markdown",
   "id": "fdffbda8",
   "metadata": {},
   "source": [
    "#### What are the numbers of trips per each day"
   ]
  },
  {
   "cell_type": "code",
   "execution_count": 168,
   "id": "afd900c0",
   "metadata": {},
   "outputs": [
    {
     "data": {
      "text/plain": [
       "Friday       206\n",
       "Tuesday      176\n",
       "Monday       174\n",
       "Thursday     154\n",
       "Saturday     150\n",
       "Sunday       148\n",
       "Wednesday    147\n",
       "Name: DAY, dtype: int64"
      ]
     },
     "execution_count": 168,
     "metadata": {},
     "output_type": "execute_result"
    }
   ],
   "source": [
    "day_count = df['DAY'].value_counts()\n",
    "\n",
    "day_count"
   ]
  },
  {
   "cell_type": "code",
   "execution_count": 166,
   "id": "63fd60ff",
   "metadata": {},
   "outputs": [
    {
     "data": {
      "text/html": [
       "<div>\n",
       "<style scoped>\n",
       "    .dataframe tbody tr th:only-of-type {\n",
       "        vertical-align: middle;\n",
       "    }\n",
       "\n",
       "    .dataframe tbody tr th {\n",
       "        vertical-align: top;\n",
       "    }\n",
       "\n",
       "    .dataframe thead tr th {\n",
       "        text-align: left;\n",
       "    }\n",
       "\n",
       "    .dataframe thead tr:last-of-type th {\n",
       "        text-align: right;\n",
       "    }\n",
       "</style>\n",
       "<table border=\"1\" class=\"dataframe\">\n",
       "  <thead>\n",
       "    <tr>\n",
       "      <th></th>\n",
       "      <th colspan=\"8\" halign=\"left\">MILES*</th>\n",
       "    </tr>\n",
       "    <tr>\n",
       "      <th></th>\n",
       "      <th>count</th>\n",
       "      <th>mean</th>\n",
       "      <th>std</th>\n",
       "      <th>min</th>\n",
       "      <th>25%</th>\n",
       "      <th>50%</th>\n",
       "      <th>75%</th>\n",
       "      <th>max</th>\n",
       "    </tr>\n",
       "    <tr>\n",
       "      <th>DAY</th>\n",
       "      <th></th>\n",
       "      <th></th>\n",
       "      <th></th>\n",
       "      <th></th>\n",
       "      <th></th>\n",
       "      <th></th>\n",
       "      <th></th>\n",
       "      <th></th>\n",
       "    </tr>\n",
       "  </thead>\n",
       "  <tbody>\n",
       "    <tr>\n",
       "      <th>Friday</th>\n",
       "      <td>206.0</td>\n",
       "      <td>12.597087</td>\n",
       "      <td>29.967174</td>\n",
       "      <td>0.7</td>\n",
       "      <td>3.125</td>\n",
       "      <td>7.50</td>\n",
       "      <td>10.975</td>\n",
       "      <td>310.3</td>\n",
       "    </tr>\n",
       "    <tr>\n",
       "      <th>Monday</th>\n",
       "      <td>174.0</td>\n",
       "      <td>7.973563</td>\n",
       "      <td>7.737014</td>\n",
       "      <td>0.7</td>\n",
       "      <td>3.125</td>\n",
       "      <td>5.30</td>\n",
       "      <td>9.900</td>\n",
       "      <td>46.9</td>\n",
       "    </tr>\n",
       "    <tr>\n",
       "      <th>Saturday</th>\n",
       "      <td>150.0</td>\n",
       "      <td>13.175333</td>\n",
       "      <td>25.462477</td>\n",
       "      <td>0.6</td>\n",
       "      <td>3.100</td>\n",
       "      <td>6.15</td>\n",
       "      <td>10.400</td>\n",
       "      <td>174.2</td>\n",
       "    </tr>\n",
       "    <tr>\n",
       "      <th>Sunday</th>\n",
       "      <td>148.0</td>\n",
       "      <td>11.462162</td>\n",
       "      <td>25.802601</td>\n",
       "      <td>0.6</td>\n",
       "      <td>2.700</td>\n",
       "      <td>6.10</td>\n",
       "      <td>9.900</td>\n",
       "      <td>195.9</td>\n",
       "    </tr>\n",
       "    <tr>\n",
       "      <th>Thursday</th>\n",
       "      <td>154.0</td>\n",
       "      <td>11.805195</td>\n",
       "      <td>21.816582</td>\n",
       "      <td>0.7</td>\n",
       "      <td>2.825</td>\n",
       "      <td>6.10</td>\n",
       "      <td>12.875</td>\n",
       "      <td>195.3</td>\n",
       "    </tr>\n",
       "    <tr>\n",
       "      <th>Tuesday</th>\n",
       "      <td>176.0</td>\n",
       "      <td>8.418750</td>\n",
       "      <td>15.988558</td>\n",
       "      <td>0.5</td>\n",
       "      <td>2.800</td>\n",
       "      <td>5.70</td>\n",
       "      <td>9.725</td>\n",
       "      <td>195.6</td>\n",
       "    </tr>\n",
       "    <tr>\n",
       "      <th>Wednesday</th>\n",
       "      <td>147.0</td>\n",
       "      <td>8.502721</td>\n",
       "      <td>13.358605</td>\n",
       "      <td>0.5</td>\n",
       "      <td>2.100</td>\n",
       "      <td>4.90</td>\n",
       "      <td>9.900</td>\n",
       "      <td>103.0</td>\n",
       "    </tr>\n",
       "  </tbody>\n",
       "</table>\n",
       "</div>"
      ],
      "text/plain": [
       "          MILES*                                                       \n",
       "           count       mean        std  min    25%   50%     75%    max\n",
       "DAY                                                                    \n",
       "Friday     206.0  12.597087  29.967174  0.7  3.125  7.50  10.975  310.3\n",
       "Monday     174.0   7.973563   7.737014  0.7  3.125  5.30   9.900   46.9\n",
       "Saturday   150.0  13.175333  25.462477  0.6  3.100  6.15  10.400  174.2\n",
       "Sunday     148.0  11.462162  25.802601  0.6  2.700  6.10   9.900  195.9\n",
       "Thursday   154.0  11.805195  21.816582  0.7  2.825  6.10  12.875  195.3\n",
       "Tuesday    176.0   8.418750  15.988558  0.5  2.800  5.70   9.725  195.6\n",
       "Wednesday  147.0   8.502721  13.358605  0.5  2.100  4.90   9.900  103.0"
      ]
     },
     "execution_count": 166,
     "metadata": {},
     "output_type": "execute_result"
    }
   ],
   "source": [
    "df.groupby('DAY').describe()"
   ]
  },
  {
   "cell_type": "code",
   "execution_count": 175,
   "id": "3c4a938b",
   "metadata": {},
   "outputs": [
    {
     "name": "stdout",
     "output_type": "stream",
     "text": [
      "The number of trips on Mondays were 174, Tuesdays were 176, Wednesdays were 147, \n",
      "Thursdays were 154, Fridays were 206, Saturdays were 150 while Sundays, 148\n"
     ]
    }
   ],
   "source": [
    "print(f'''The number of trips on Mondays were {day_count[2]}, Tuesdays were {day_count[1]}, Wednesdays were {day_count[6]}, \n",
    "Thursdays were {day_count[3]}, Fridays were {day_count[0]}, Saturdays were {day_count[4]} while Sundays, {day_count[5]}''')"
   ]
  },
  {
   "cell_type": "markdown",
   "id": "34338033",
   "metadata": {},
   "source": [
    "#### What are the trips in the months"
   ]
  },
  {
   "cell_type": "code",
   "execution_count": 80,
   "id": "71d0b493",
   "metadata": {},
   "outputs": [
    {
     "data": {
      "text/html": [
       "<div>\n",
       "<style scoped>\n",
       "    .dataframe tbody tr th:only-of-type {\n",
       "        vertical-align: middle;\n",
       "    }\n",
       "\n",
       "    .dataframe tbody tr th {\n",
       "        vertical-align: top;\n",
       "    }\n",
       "\n",
       "    .dataframe thead th {\n",
       "        text-align: right;\n",
       "    }\n",
       "</style>\n",
       "<table border=\"1\" class=\"dataframe\">\n",
       "  <thead>\n",
       "    <tr style=\"text-align: right;\">\n",
       "      <th></th>\n",
       "      <th>START_DATE*</th>\n",
       "      <th>END_DATE*</th>\n",
       "      <th>CATEGORY*</th>\n",
       "      <th>START*</th>\n",
       "      <th>STOP*</th>\n",
       "      <th>MILES*</th>\n",
       "      <th>PURPOSE*</th>\n",
       "      <th>MONTHS</th>\n",
       "    </tr>\n",
       "  </thead>\n",
       "  <tbody>\n",
       "    <tr>\n",
       "      <th>0</th>\n",
       "      <td>2016-01-01 21:11:00</td>\n",
       "      <td>1/1/2016 21:17</td>\n",
       "      <td>Business</td>\n",
       "      <td>Fort Pierce</td>\n",
       "      <td>Fort Pierce</td>\n",
       "      <td>5.1</td>\n",
       "      <td>Meal/Entertain</td>\n",
       "      <td>January</td>\n",
       "    </tr>\n",
       "    <tr>\n",
       "      <th>1</th>\n",
       "      <td>2016-01-02 01:25:00</td>\n",
       "      <td>1/2/2016 1:37</td>\n",
       "      <td>Business</td>\n",
       "      <td>Fort Pierce</td>\n",
       "      <td>Fort Pierce</td>\n",
       "      <td>5.0</td>\n",
       "      <td>NaN</td>\n",
       "      <td>January</td>\n",
       "    </tr>\n",
       "    <tr>\n",
       "      <th>2</th>\n",
       "      <td>2016-01-02 20:25:00</td>\n",
       "      <td>1/2/2016 20:38</td>\n",
       "      <td>Business</td>\n",
       "      <td>Fort Pierce</td>\n",
       "      <td>Fort Pierce</td>\n",
       "      <td>4.8</td>\n",
       "      <td>Errand/Supplies</td>\n",
       "      <td>January</td>\n",
       "    </tr>\n",
       "    <tr>\n",
       "      <th>3</th>\n",
       "      <td>2016-01-05 17:31:00</td>\n",
       "      <td>1/5/2016 17:45</td>\n",
       "      <td>Business</td>\n",
       "      <td>Fort Pierce</td>\n",
       "      <td>Fort Pierce</td>\n",
       "      <td>4.7</td>\n",
       "      <td>Meeting</td>\n",
       "      <td>January</td>\n",
       "    </tr>\n",
       "    <tr>\n",
       "      <th>4</th>\n",
       "      <td>2016-01-06 14:42:00</td>\n",
       "      <td>1/6/2016 15:49</td>\n",
       "      <td>Business</td>\n",
       "      <td>Fort Pierce</td>\n",
       "      <td>West Palm Beach</td>\n",
       "      <td>63.7</td>\n",
       "      <td>Customer Visit</td>\n",
       "      <td>January</td>\n",
       "    </tr>\n",
       "  </tbody>\n",
       "</table>\n",
       "</div>"
      ],
      "text/plain": [
       "          START_DATE*       END_DATE* CATEGORY*       START*            STOP*  \\\n",
       "0 2016-01-01 21:11:00  1/1/2016 21:17  Business  Fort Pierce      Fort Pierce   \n",
       "1 2016-01-02 01:25:00   1/2/2016 1:37  Business  Fort Pierce      Fort Pierce   \n",
       "2 2016-01-02 20:25:00  1/2/2016 20:38  Business  Fort Pierce      Fort Pierce   \n",
       "3 2016-01-05 17:31:00  1/5/2016 17:45  Business  Fort Pierce      Fort Pierce   \n",
       "4 2016-01-06 14:42:00  1/6/2016 15:49  Business  Fort Pierce  West Palm Beach   \n",
       "\n",
       "   MILES*         PURPOSE*   MONTHS  \n",
       "0     5.1   Meal/Entertain  January  \n",
       "1     5.0              NaN  January  \n",
       "2     4.8  Errand/Supplies  January  \n",
       "3     4.7          Meeting  January  \n",
       "4    63.7   Customer Visit  January  "
      ]
     },
     "execution_count": 80,
     "metadata": {},
     "output_type": "execute_result"
    }
   ],
   "source": [
    "df['MONTHS'] = df['START_DATE*'].dt.strftime('%B')\n",
    "\n",
    "df.head()"
   ]
  },
  {
   "cell_type": "code",
   "execution_count": 177,
   "id": "79580135",
   "metadata": {
    "scrolled": true
   },
   "outputs": [
    {
     "data": {
      "text/plain": [
       "December     146\n",
       "August       133\n",
       "November     122\n",
       "February     115\n",
       "March        113\n",
       "July         112\n",
       "June         108\n",
       "October      106\n",
       "January       61\n",
       "April         54\n",
       "May           49\n",
       "September     36\n",
       "Name: MONTHS, dtype: int64"
      ]
     },
     "execution_count": 177,
     "metadata": {},
     "output_type": "execute_result"
    }
   ],
   "source": [
    "month_trips = df['MONTHS'].value_counts()\n",
    "month_trips"
   ]
  },
  {
   "cell_type": "code",
   "execution_count": 179,
   "id": "faa77d9e",
   "metadata": {},
   "outputs": [
    {
     "name": "stdout",
     "output_type": "stream",
     "text": [
      "The trips made in `December` were  146, that of `August` were 133, `November` were 122, `February` were 115,`March` were 113, `July` were 112. Those of `June` were 108, `October` were 106, `January` were 61, `April` were 54, `May` were 49, and `September` were 36\n"
     ]
    }
   ],
   "source": [
    "print(f'''The trips made in `December` were  {month_trips[0]}, that of `August` were {month_trips[1]}, `November` were {month_trips[2]}, `February` were {month_trips[3]},`March` were {month_trips[4]}, `July` were {month_trips[5]}. Those of `June` were {month_trips[6]}, `October` were {month_trips[7]}, `January` were {month_trips[8]}, `April` were {month_trips[9]}, `May` were {month_trips[10]}, and `September` were {month_trips[11]}''')"
   ]
  },
  {
   "cell_type": "markdown",
   "id": "f2b54092",
   "metadata": {},
   "source": [
    "#### Where do people board from most"
   ]
  },
  {
   "cell_type": "code",
   "execution_count": 103,
   "id": "c1ffd6e6",
   "metadata": {},
   "outputs": [
    {
     "name": "stdout",
     "output_type": "stream",
     "text": [
      "Cary is where people board from the most\n"
     ]
    }
   ],
   "source": [
    "df['START*'].value_counts().idxmax()\n",
    "\n",
    "print(f\"{df['START*'].value_counts().idxmax()} is where people board from the most\")"
   ]
  },
  {
   "cell_type": "markdown",
   "id": "647eaca6",
   "metadata": {},
   "source": [
    "## Exploratory data analysis for Indian Startups"
   ]
  },
  {
   "cell_type": "code",
   "execution_count": 192,
   "id": "63c69ddd",
   "metadata": {
    "scrolled": false
   },
   "outputs": [
    {
     "data": {
      "text/html": [
       "<div>\n",
       "<style scoped>\n",
       "    .dataframe tbody tr th:only-of-type {\n",
       "        vertical-align: middle;\n",
       "    }\n",
       "\n",
       "    .dataframe tbody tr th {\n",
       "        vertical-align: top;\n",
       "    }\n",
       "\n",
       "    .dataframe thead th {\n",
       "        text-align: right;\n",
       "    }\n",
       "</style>\n",
       "<table border=\"1\" class=\"dataframe\">\n",
       "  <thead>\n",
       "    <tr style=\"text-align: right;\">\n",
       "      <th></th>\n",
       "      <th>Unnamed: 0</th>\n",
       "      <th>SNo</th>\n",
       "      <th>Date</th>\n",
       "      <th>StartupName</th>\n",
       "      <th>IndustryVertical</th>\n",
       "      <th>SubVertical</th>\n",
       "      <th>City</th>\n",
       "      <th>InvestorsName</th>\n",
       "      <th>InvestmentType</th>\n",
       "      <th>AmountInUSD</th>\n",
       "      <th>Remarks</th>\n",
       "      <th>yearmonth</th>\n",
       "    </tr>\n",
       "  </thead>\n",
       "  <tbody>\n",
       "    <tr>\n",
       "      <th>0</th>\n",
       "      <td>0</td>\n",
       "      <td>1</td>\n",
       "      <td>09/01/2020</td>\n",
       "      <td>BYJU’S</td>\n",
       "      <td>E-Tech</td>\n",
       "      <td>E-learning</td>\n",
       "      <td>Bengaluru</td>\n",
       "      <td>Tiger Global Management</td>\n",
       "      <td>Private Equity Round</td>\n",
       "      <td>200000000.0</td>\n",
       "      <td>NaN</td>\n",
       "      <td>202001</td>\n",
       "    </tr>\n",
       "    <tr>\n",
       "      <th>1</th>\n",
       "      <td>1</td>\n",
       "      <td>2</td>\n",
       "      <td>13/01/2020</td>\n",
       "      <td>Shuttl</td>\n",
       "      <td>Transportation</td>\n",
       "      <td>App based shuttle service</td>\n",
       "      <td>Gurgaon</td>\n",
       "      <td>Susquehanna Growth Equity</td>\n",
       "      <td>Series C</td>\n",
       "      <td>8048394.0</td>\n",
       "      <td>NaN</td>\n",
       "      <td>202001</td>\n",
       "    </tr>\n",
       "    <tr>\n",
       "      <th>2</th>\n",
       "      <td>2</td>\n",
       "      <td>3</td>\n",
       "      <td>09/01/2020</td>\n",
       "      <td>Mamaearth</td>\n",
       "      <td>E-commerce</td>\n",
       "      <td>Retailer of baby and toddler products</td>\n",
       "      <td>Bengaluru</td>\n",
       "      <td>Sequoia Capital India</td>\n",
       "      <td>Series B</td>\n",
       "      <td>18358860.0</td>\n",
       "      <td>NaN</td>\n",
       "      <td>202001</td>\n",
       "    </tr>\n",
       "    <tr>\n",
       "      <th>3</th>\n",
       "      <td>3</td>\n",
       "      <td>4</td>\n",
       "      <td>02/01/2020</td>\n",
       "      <td>https://www.wealthbucket.in/</td>\n",
       "      <td>FinTech</td>\n",
       "      <td>Online Investment</td>\n",
       "      <td>New Delhi</td>\n",
       "      <td>Vinod Khatumal</td>\n",
       "      <td>Pre-series A</td>\n",
       "      <td>3000000.0</td>\n",
       "      <td>NaN</td>\n",
       "      <td>202001</td>\n",
       "    </tr>\n",
       "    <tr>\n",
       "      <th>4</th>\n",
       "      <td>4</td>\n",
       "      <td>5</td>\n",
       "      <td>02/01/2020</td>\n",
       "      <td>Fashor</td>\n",
       "      <td>Fashion and Apparel</td>\n",
       "      <td>Embroiled Clothes For Women</td>\n",
       "      <td>Mumbai</td>\n",
       "      <td>Sprout Venture Partners</td>\n",
       "      <td>Seed Round</td>\n",
       "      <td>1800000.0</td>\n",
       "      <td>NaN</td>\n",
       "      <td>202001</td>\n",
       "    </tr>\n",
       "  </tbody>\n",
       "</table>\n",
       "</div>"
      ],
      "text/plain": [
       "   Unnamed: 0  SNo        Date                   StartupName  \\\n",
       "0           0    1  09/01/2020                        BYJU’S   \n",
       "1           1    2  13/01/2020                        Shuttl   \n",
       "2           2    3  09/01/2020                     Mamaearth   \n",
       "3           3    4  02/01/2020  https://www.wealthbucket.in/   \n",
       "4           4    5  02/01/2020                        Fashor   \n",
       "\n",
       "      IndustryVertical                            SubVertical       City  \\\n",
       "0               E-Tech                             E-learning  Bengaluru   \n",
       "1       Transportation              App based shuttle service    Gurgaon   \n",
       "2           E-commerce  Retailer of baby and toddler products  Bengaluru   \n",
       "3              FinTech                      Online Investment  New Delhi   \n",
       "4  Fashion and Apparel            Embroiled Clothes For Women     Mumbai   \n",
       "\n",
       "               InvestorsName        InvestmentType  AmountInUSD Remarks  \\\n",
       "0    Tiger Global Management  Private Equity Round  200000000.0     NaN   \n",
       "1  Susquehanna Growth Equity              Series C    8048394.0     NaN   \n",
       "2      Sequoia Capital India              Series B   18358860.0     NaN   \n",
       "3             Vinod Khatumal          Pre-series A    3000000.0     NaN   \n",
       "4    Sprout Venture Partners            Seed Round    1800000.0     NaN   \n",
       "\n",
       "   yearmonth  \n",
       "0     202001  \n",
       "1     202001  \n",
       "2     202001  \n",
       "3     202001  \n",
       "4     202001  "
      ]
     },
     "execution_count": 192,
     "metadata": {},
     "output_type": "execute_result"
    }
   ],
   "source": [
    "df2=pd.read_csv('investment.csv')\n",
    "\n",
    "df2.head()"
   ]
  },
  {
   "cell_type": "code",
   "execution_count": 196,
   "id": "15b7357c",
   "metadata": {},
   "outputs": [
    {
     "data": {
      "text/html": [
       "<div>\n",
       "<style scoped>\n",
       "    .dataframe tbody tr th:only-of-type {\n",
       "        vertical-align: middle;\n",
       "    }\n",
       "\n",
       "    .dataframe tbody tr th {\n",
       "        vertical-align: top;\n",
       "    }\n",
       "\n",
       "    .dataframe thead th {\n",
       "        text-align: right;\n",
       "    }\n",
       "</style>\n",
       "<table border=\"1\" class=\"dataframe\">\n",
       "  <thead>\n",
       "    <tr style=\"text-align: right;\">\n",
       "      <th></th>\n",
       "      <th>Unnamed: 0</th>\n",
       "      <th>SNo</th>\n",
       "      <th>Date</th>\n",
       "      <th>StartupName</th>\n",
       "      <th>IndustryVertical</th>\n",
       "      <th>SubVertical</th>\n",
       "      <th>City</th>\n",
       "      <th>InvestorsName</th>\n",
       "      <th>InvestmentType</th>\n",
       "      <th>AmountInUSD</th>\n",
       "      <th>yearmonth</th>\n",
       "    </tr>\n",
       "  </thead>\n",
       "  <tbody>\n",
       "    <tr>\n",
       "      <th>2197</th>\n",
       "      <td>2197</td>\n",
       "      <td>2198</td>\n",
       "      <td>02/11/2015</td>\n",
       "      <td>Twigly</td>\n",
       "      <td>Online Food Ordering &amp; Delivery platform</td>\n",
       "      <td>NaN</td>\n",
       "      <td>Gurgaon</td>\n",
       "      <td>Amit Gupta, Sahil Barua, Mukul Singhal, Tracxn...</td>\n",
       "      <td>Seed Funding</td>\n",
       "      <td>200000.0</td>\n",
       "      <td>201511</td>\n",
       "    </tr>\n",
       "  </tbody>\n",
       "</table>\n",
       "</div>"
      ],
      "text/plain": [
       "      Unnamed: 0   SNo        Date StartupName  \\\n",
       "2197        2197  2198  02/11/2015      Twigly   \n",
       "\n",
       "                              IndustryVertical SubVertical     City  \\\n",
       "2197  Online Food Ordering & Delivery platform         NaN  Gurgaon   \n",
       "\n",
       "                                          InvestorsName InvestmentType  \\\n",
       "2197  Amit Gupta, Sahil Barua, Mukul Singhal, Tracxn...   Seed Funding   \n",
       "\n",
       "      AmountInUSD  yearmonth  \n",
       "2197     200000.0     201511  "
      ]
     },
     "execution_count": 196,
     "metadata": {},
     "output_type": "execute_result"
    }
   ],
   "source": [
    "df2.drop('Remarks',axis = 1, inplace=True)\n",
    "df2.sample()"
   ]
  },
  {
   "cell_type": "code",
   "execution_count": 197,
   "id": "78d4a7bb",
   "metadata": {},
   "outputs": [
    {
     "data": {
      "text/html": [
       "<div>\n",
       "<style scoped>\n",
       "    .dataframe tbody tr th:only-of-type {\n",
       "        vertical-align: middle;\n",
       "    }\n",
       "\n",
       "    .dataframe tbody tr th {\n",
       "        vertical-align: top;\n",
       "    }\n",
       "\n",
       "    .dataframe thead th {\n",
       "        text-align: right;\n",
       "    }\n",
       "</style>\n",
       "<table border=\"1\" class=\"dataframe\">\n",
       "  <thead>\n",
       "    <tr style=\"text-align: right;\">\n",
       "      <th></th>\n",
       "      <th>SNo</th>\n",
       "      <th>Date</th>\n",
       "      <th>StartupName</th>\n",
       "      <th>IndustryVertical</th>\n",
       "      <th>SubVertical</th>\n",
       "      <th>City</th>\n",
       "      <th>InvestorsName</th>\n",
       "      <th>InvestmentType</th>\n",
       "      <th>AmountInUSD</th>\n",
       "      <th>yearmonth</th>\n",
       "    </tr>\n",
       "  </thead>\n",
       "  <tbody>\n",
       "    <tr>\n",
       "      <th>759</th>\n",
       "      <td>760</td>\n",
       "      <td>19/06/2017</td>\n",
       "      <td>DarwinBox</td>\n",
       "      <td>Technology</td>\n",
       "      <td>Enterprise human resources management platform</td>\n",
       "      <td>Hyderabad</td>\n",
       "      <td>Lightspeed India Partners, Endiya Partners, 3o...</td>\n",
       "      <td>Private Equity</td>\n",
       "      <td>4000000.0</td>\n",
       "      <td>201706</td>\n",
       "    </tr>\n",
       "  </tbody>\n",
       "</table>\n",
       "</div>"
      ],
      "text/plain": [
       "     SNo        Date StartupName IndustryVertical  \\\n",
       "759  760  19/06/2017   DarwinBox       Technology   \n",
       "\n",
       "                                        SubVertical       City  \\\n",
       "759  Enterprise human resources management platform  Hyderabad   \n",
       "\n",
       "                                         InvestorsName  InvestmentType  \\\n",
       "759  Lightspeed India Partners, Endiya Partners, 3o...  Private Equity   \n",
       "\n",
       "     AmountInUSD  yearmonth  \n",
       "759    4000000.0     201706  "
      ]
     },
     "execution_count": 197,
     "metadata": {},
     "output_type": "execute_result"
    }
   ],
   "source": [
    "df2.drop('Unnamed: 0',axis = 1, inplace=True)\n",
    "df2.sample()"
   ]
  },
  {
   "cell_type": "code",
   "execution_count": 198,
   "id": "4e1382db",
   "metadata": {},
   "outputs": [
    {
     "data": {
      "text/plain": [
       "SNo                   int64\n",
       "Date                 object\n",
       "StartupName          object\n",
       "IndustryVertical     object\n",
       "SubVertical          object\n",
       "City                 object\n",
       "InvestorsName        object\n",
       "InvestmentType       object\n",
       "AmountInUSD         float64\n",
       "yearmonth             int64\n",
       "dtype: object"
      ]
     },
     "execution_count": 198,
     "metadata": {},
     "output_type": "execute_result"
    }
   ],
   "source": [
    "df2.dtypes"
   ]
  },
  {
   "cell_type": "code",
   "execution_count": 199,
   "id": "75d467b3",
   "metadata": {},
   "outputs": [
    {
     "name": "stderr",
     "output_type": "stream",
     "text": [
      "C:\\Users\\OMOLADE ADEFUNKE\\AppData\\Local\\Temp\\ipykernel_12964\\2374928928.py:1: UserWarning: Parsing dates in DD/MM/YYYY format when dayfirst=False (the default) was specified. This may lead to inconsistently parsed dates! Specify a format to ensure consistent parsing.\n",
      "  df2['Date'] = pd.to_datetime(df2['Date']) #convert date to datetime\n"
     ]
    },
    {
     "data": {
      "text/plain": [
       "SNo                          int64\n",
       "Date                datetime64[ns]\n",
       "StartupName                 object\n",
       "IndustryVertical            object\n",
       "SubVertical                 object\n",
       "City                        object\n",
       "InvestorsName               object\n",
       "InvestmentType              object\n",
       "AmountInUSD                float64\n",
       "yearmonth                    int64\n",
       "dtype: object"
      ]
     },
     "execution_count": 199,
     "metadata": {},
     "output_type": "execute_result"
    }
   ],
   "source": [
    "df2['Date'] = pd.to_datetime(df2['Date']) #convert date to datetime\n",
    "\n",
    "df2.dtypes"
   ]
  },
  {
   "cell_type": "code",
   "execution_count": 200,
   "id": "0a0dd95b",
   "metadata": {},
   "outputs": [
    {
     "data": {
      "text/html": [
       "<div>\n",
       "<style scoped>\n",
       "    .dataframe tbody tr th:only-of-type {\n",
       "        vertical-align: middle;\n",
       "    }\n",
       "\n",
       "    .dataframe tbody tr th {\n",
       "        vertical-align: top;\n",
       "    }\n",
       "\n",
       "    .dataframe thead th {\n",
       "        text-align: right;\n",
       "    }\n",
       "</style>\n",
       "<table border=\"1\" class=\"dataframe\">\n",
       "  <thead>\n",
       "    <tr style=\"text-align: right;\">\n",
       "      <th></th>\n",
       "      <th>SNo</th>\n",
       "      <th>Date</th>\n",
       "      <th>StartupName</th>\n",
       "      <th>IndustryVertical</th>\n",
       "      <th>SubVertical</th>\n",
       "      <th>City</th>\n",
       "      <th>InvestorsName</th>\n",
       "      <th>InvestmentType</th>\n",
       "      <th>AmountInUSD</th>\n",
       "      <th>yearmonth</th>\n",
       "    </tr>\n",
       "  </thead>\n",
       "  <tbody>\n",
       "    <tr>\n",
       "      <th>2452</th>\n",
       "      <td>2453</td>\n",
       "      <td>2015-09-24</td>\n",
       "      <td>Quintype</td>\n",
       "      <td>Data Driven Publishing platform</td>\n",
       "      <td>NaN</td>\n",
       "      <td>Bangalore</td>\n",
       "      <td>Raghav Bahl</td>\n",
       "      <td>Private Equity</td>\n",
       "      <td>3300000.0</td>\n",
       "      <td>201509</td>\n",
       "    </tr>\n",
       "  </tbody>\n",
       "</table>\n",
       "</div>"
      ],
      "text/plain": [
       "       SNo       Date StartupName                 IndustryVertical  \\\n",
       "2452  2453 2015-09-24    Quintype  Data Driven Publishing platform   \n",
       "\n",
       "     SubVertical       City InvestorsName  InvestmentType  AmountInUSD  \\\n",
       "2452         NaN  Bangalore   Raghav Bahl  Private Equity    3300000.0   \n",
       "\n",
       "      yearmonth  \n",
       "2452     201509  "
      ]
     },
     "execution_count": 200,
     "metadata": {},
     "output_type": "execute_result"
    }
   ],
   "source": [
    "df2['yearmonth']\n",
    "\n",
    "df2.sample()"
   ]
  },
  {
   "cell_type": "code",
   "execution_count": 201,
   "id": "9818d0a0",
   "metadata": {
    "scrolled": false
   },
   "outputs": [
    {
     "data": {
      "text/html": [
       "<div>\n",
       "<style scoped>\n",
       "    .dataframe tbody tr th:only-of-type {\n",
       "        vertical-align: middle;\n",
       "    }\n",
       "\n",
       "    .dataframe tbody tr th {\n",
       "        vertical-align: top;\n",
       "    }\n",
       "\n",
       "    .dataframe thead th {\n",
       "        text-align: right;\n",
       "    }\n",
       "</style>\n",
       "<table border=\"1\" class=\"dataframe\">\n",
       "  <thead>\n",
       "    <tr style=\"text-align: right;\">\n",
       "      <th></th>\n",
       "      <th>SNo</th>\n",
       "      <th>Date</th>\n",
       "      <th>StartupName</th>\n",
       "      <th>IndustryVertical</th>\n",
       "      <th>SubVertical</th>\n",
       "      <th>City</th>\n",
       "      <th>InvestorsName</th>\n",
       "      <th>InvestmentType</th>\n",
       "      <th>AmountInUSD</th>\n",
       "      <th>yearmonth</th>\n",
       "      <th>year</th>\n",
       "    </tr>\n",
       "  </thead>\n",
       "  <tbody>\n",
       "    <tr>\n",
       "      <th>0</th>\n",
       "      <td>1</td>\n",
       "      <td>2020-09-01</td>\n",
       "      <td>BYJU’S</td>\n",
       "      <td>E-Tech</td>\n",
       "      <td>E-learning</td>\n",
       "      <td>Bengaluru</td>\n",
       "      <td>Tiger Global Management</td>\n",
       "      <td>Private Equity Round</td>\n",
       "      <td>200000000.0</td>\n",
       "      <td>202001</td>\n",
       "      <td>2020</td>\n",
       "    </tr>\n",
       "    <tr>\n",
       "      <th>1</th>\n",
       "      <td>2</td>\n",
       "      <td>2020-01-13</td>\n",
       "      <td>Shuttl</td>\n",
       "      <td>Transportation</td>\n",
       "      <td>App based shuttle service</td>\n",
       "      <td>Gurgaon</td>\n",
       "      <td>Susquehanna Growth Equity</td>\n",
       "      <td>Series C</td>\n",
       "      <td>8048394.0</td>\n",
       "      <td>202001</td>\n",
       "      <td>2020</td>\n",
       "    </tr>\n",
       "    <tr>\n",
       "      <th>2</th>\n",
       "      <td>3</td>\n",
       "      <td>2020-09-01</td>\n",
       "      <td>Mamaearth</td>\n",
       "      <td>E-commerce</td>\n",
       "      <td>Retailer of baby and toddler products</td>\n",
       "      <td>Bengaluru</td>\n",
       "      <td>Sequoia Capital India</td>\n",
       "      <td>Series B</td>\n",
       "      <td>18358860.0</td>\n",
       "      <td>202001</td>\n",
       "      <td>2020</td>\n",
       "    </tr>\n",
       "    <tr>\n",
       "      <th>3</th>\n",
       "      <td>4</td>\n",
       "      <td>2020-02-01</td>\n",
       "      <td>https://www.wealthbucket.in/</td>\n",
       "      <td>FinTech</td>\n",
       "      <td>Online Investment</td>\n",
       "      <td>New Delhi</td>\n",
       "      <td>Vinod Khatumal</td>\n",
       "      <td>Pre-series A</td>\n",
       "      <td>3000000.0</td>\n",
       "      <td>202001</td>\n",
       "      <td>2020</td>\n",
       "    </tr>\n",
       "    <tr>\n",
       "      <th>4</th>\n",
       "      <td>5</td>\n",
       "      <td>2020-02-01</td>\n",
       "      <td>Fashor</td>\n",
       "      <td>Fashion and Apparel</td>\n",
       "      <td>Embroiled Clothes For Women</td>\n",
       "      <td>Mumbai</td>\n",
       "      <td>Sprout Venture Partners</td>\n",
       "      <td>Seed Round</td>\n",
       "      <td>1800000.0</td>\n",
       "      <td>202001</td>\n",
       "      <td>2020</td>\n",
       "    </tr>\n",
       "  </tbody>\n",
       "</table>\n",
       "</div>"
      ],
      "text/plain": [
       "   SNo       Date                   StartupName     IndustryVertical  \\\n",
       "0    1 2020-09-01                        BYJU’S               E-Tech   \n",
       "1    2 2020-01-13                        Shuttl       Transportation   \n",
       "2    3 2020-09-01                     Mamaearth           E-commerce   \n",
       "3    4 2020-02-01  https://www.wealthbucket.in/              FinTech   \n",
       "4    5 2020-02-01                        Fashor  Fashion and Apparel   \n",
       "\n",
       "                             SubVertical       City  \\\n",
       "0                             E-learning  Bengaluru   \n",
       "1              App based shuttle service    Gurgaon   \n",
       "2  Retailer of baby and toddler products  Bengaluru   \n",
       "3                      Online Investment  New Delhi   \n",
       "4            Embroiled Clothes For Women     Mumbai   \n",
       "\n",
       "               InvestorsName        InvestmentType  AmountInUSD  yearmonth  \\\n",
       "0    Tiger Global Management  Private Equity Round  200000000.0     202001   \n",
       "1  Susquehanna Growth Equity              Series C    8048394.0     202001   \n",
       "2      Sequoia Capital India              Series B   18358860.0     202001   \n",
       "3             Vinod Khatumal          Pre-series A    3000000.0     202001   \n",
       "4    Sprout Venture Partners            Seed Round    1800000.0     202001   \n",
       "\n",
       "   year  \n",
       "0  2020  \n",
       "1  2020  \n",
       "2  2020  \n",
       "3  2020  \n",
       "4  2020  "
      ]
     },
     "execution_count": 201,
     "metadata": {},
     "output_type": "execute_result"
    }
   ],
   "source": [
    "df2['year'] = df2['Date'].dt.year\n",
    "\n",
    "df2.head()"
   ]
  },
  {
   "cell_type": "code",
   "execution_count": 202,
   "id": "54f63f04",
   "metadata": {},
   "outputs": [
    {
     "data": {
      "text/html": [
       "<div>\n",
       "<style scoped>\n",
       "    .dataframe tbody tr th:only-of-type {\n",
       "        vertical-align: middle;\n",
       "    }\n",
       "\n",
       "    .dataframe tbody tr th {\n",
       "        vertical-align: top;\n",
       "    }\n",
       "\n",
       "    .dataframe thead th {\n",
       "        text-align: right;\n",
       "    }\n",
       "</style>\n",
       "<table border=\"1\" class=\"dataframe\">\n",
       "  <thead>\n",
       "    <tr style=\"text-align: right;\">\n",
       "      <th></th>\n",
       "      <th>SNo</th>\n",
       "      <th>Date</th>\n",
       "      <th>StartupName</th>\n",
       "      <th>IndustryVertical</th>\n",
       "      <th>SubVertical</th>\n",
       "      <th>City</th>\n",
       "      <th>InvestorsName</th>\n",
       "      <th>InvestmentType</th>\n",
       "      <th>AmountInUSD</th>\n",
       "      <th>yearmonth</th>\n",
       "      <th>year</th>\n",
       "      <th>month</th>\n",
       "    </tr>\n",
       "  </thead>\n",
       "  <tbody>\n",
       "    <tr>\n",
       "      <th>0</th>\n",
       "      <td>1</td>\n",
       "      <td>2020-09-01</td>\n",
       "      <td>BYJU’S</td>\n",
       "      <td>E-Tech</td>\n",
       "      <td>E-learning</td>\n",
       "      <td>Bengaluru</td>\n",
       "      <td>Tiger Global Management</td>\n",
       "      <td>Private Equity Round</td>\n",
       "      <td>200000000.0</td>\n",
       "      <td>202001</td>\n",
       "      <td>2020</td>\n",
       "      <td>September</td>\n",
       "    </tr>\n",
       "    <tr>\n",
       "      <th>1</th>\n",
       "      <td>2</td>\n",
       "      <td>2020-01-13</td>\n",
       "      <td>Shuttl</td>\n",
       "      <td>Transportation</td>\n",
       "      <td>App based shuttle service</td>\n",
       "      <td>Gurgaon</td>\n",
       "      <td>Susquehanna Growth Equity</td>\n",
       "      <td>Series C</td>\n",
       "      <td>8048394.0</td>\n",
       "      <td>202001</td>\n",
       "      <td>2020</td>\n",
       "      <td>January</td>\n",
       "    </tr>\n",
       "    <tr>\n",
       "      <th>2</th>\n",
       "      <td>3</td>\n",
       "      <td>2020-09-01</td>\n",
       "      <td>Mamaearth</td>\n",
       "      <td>E-commerce</td>\n",
       "      <td>Retailer of baby and toddler products</td>\n",
       "      <td>Bengaluru</td>\n",
       "      <td>Sequoia Capital India</td>\n",
       "      <td>Series B</td>\n",
       "      <td>18358860.0</td>\n",
       "      <td>202001</td>\n",
       "      <td>2020</td>\n",
       "      <td>September</td>\n",
       "    </tr>\n",
       "    <tr>\n",
       "      <th>3</th>\n",
       "      <td>4</td>\n",
       "      <td>2020-02-01</td>\n",
       "      <td>https://www.wealthbucket.in/</td>\n",
       "      <td>FinTech</td>\n",
       "      <td>Online Investment</td>\n",
       "      <td>New Delhi</td>\n",
       "      <td>Vinod Khatumal</td>\n",
       "      <td>Pre-series A</td>\n",
       "      <td>3000000.0</td>\n",
       "      <td>202001</td>\n",
       "      <td>2020</td>\n",
       "      <td>February</td>\n",
       "    </tr>\n",
       "    <tr>\n",
       "      <th>4</th>\n",
       "      <td>5</td>\n",
       "      <td>2020-02-01</td>\n",
       "      <td>Fashor</td>\n",
       "      <td>Fashion and Apparel</td>\n",
       "      <td>Embroiled Clothes For Women</td>\n",
       "      <td>Mumbai</td>\n",
       "      <td>Sprout Venture Partners</td>\n",
       "      <td>Seed Round</td>\n",
       "      <td>1800000.0</td>\n",
       "      <td>202001</td>\n",
       "      <td>2020</td>\n",
       "      <td>February</td>\n",
       "    </tr>\n",
       "  </tbody>\n",
       "</table>\n",
       "</div>"
      ],
      "text/plain": [
       "   SNo       Date                   StartupName     IndustryVertical  \\\n",
       "0    1 2020-09-01                        BYJU’S               E-Tech   \n",
       "1    2 2020-01-13                        Shuttl       Transportation   \n",
       "2    3 2020-09-01                     Mamaearth           E-commerce   \n",
       "3    4 2020-02-01  https://www.wealthbucket.in/              FinTech   \n",
       "4    5 2020-02-01                        Fashor  Fashion and Apparel   \n",
       "\n",
       "                             SubVertical       City  \\\n",
       "0                             E-learning  Bengaluru   \n",
       "1              App based shuttle service    Gurgaon   \n",
       "2  Retailer of baby and toddler products  Bengaluru   \n",
       "3                      Online Investment  New Delhi   \n",
       "4            Embroiled Clothes For Women     Mumbai   \n",
       "\n",
       "               InvestorsName        InvestmentType  AmountInUSD  yearmonth  \\\n",
       "0    Tiger Global Management  Private Equity Round  200000000.0     202001   \n",
       "1  Susquehanna Growth Equity              Series C    8048394.0     202001   \n",
       "2      Sequoia Capital India              Series B   18358860.0     202001   \n",
       "3             Vinod Khatumal          Pre-series A    3000000.0     202001   \n",
       "4    Sprout Venture Partners            Seed Round    1800000.0     202001   \n",
       "\n",
       "   year      month  \n",
       "0  2020  September  \n",
       "1  2020    January  \n",
       "2  2020  September  \n",
       "3  2020   February  \n",
       "4  2020   February  "
      ]
     },
     "execution_count": 202,
     "metadata": {},
     "output_type": "execute_result"
    }
   ],
   "source": [
    "df2['month'] = df2['Date'].dt.strftime('%B') #this is to extract as word not number\n",
    "\n",
    "df2.head()"
   ]
  },
  {
   "cell_type": "code",
   "execution_count": 203,
   "id": "44c5b2d9",
   "metadata": {},
   "outputs": [
    {
     "data": {
      "text/plain": [
       "SNo                          int64\n",
       "Date                datetime64[ns]\n",
       "StartupName                 object\n",
       "IndustryVertical            object\n",
       "SubVertical                 object\n",
       "City                        object\n",
       "InvestorsName               object\n",
       "InvestmentType              object\n",
       "AmountInUSD                float64\n",
       "yearmonth                    int64\n",
       "year                         int64\n",
       "month                       object\n",
       "dtype: object"
      ]
     },
     "execution_count": 203,
     "metadata": {},
     "output_type": "execute_result"
    }
   ],
   "source": [
    "df2.dtypes"
   ]
  },
  {
   "cell_type": "code",
   "execution_count": 204,
   "id": "8e620012",
   "metadata": {},
   "outputs": [
    {
     "data": {
      "text/html": [
       "<div>\n",
       "<style scoped>\n",
       "    .dataframe tbody tr th:only-of-type {\n",
       "        vertical-align: middle;\n",
       "    }\n",
       "\n",
       "    .dataframe tbody tr th {\n",
       "        vertical-align: top;\n",
       "    }\n",
       "\n",
       "    .dataframe thead th {\n",
       "        text-align: right;\n",
       "    }\n",
       "</style>\n",
       "<table border=\"1\" class=\"dataframe\">\n",
       "  <thead>\n",
       "    <tr style=\"text-align: right;\">\n",
       "      <th></th>\n",
       "      <th>SNo</th>\n",
       "      <th>Date</th>\n",
       "      <th>StartupName</th>\n",
       "      <th>IndustryVertical</th>\n",
       "      <th>SubVertical</th>\n",
       "      <th>City</th>\n",
       "      <th>InvestorsName</th>\n",
       "      <th>InvestmentType</th>\n",
       "      <th>AmountInUSD</th>\n",
       "      <th>yearmonth</th>\n",
       "      <th>year</th>\n",
       "      <th>month</th>\n",
       "    </tr>\n",
       "  </thead>\n",
       "  <tbody>\n",
       "    <tr>\n",
       "      <th>1187</th>\n",
       "      <td>1188</td>\n",
       "      <td>2016-01-11</td>\n",
       "      <td>PickMyLaundry</td>\n",
       "      <td>Consumer Internet</td>\n",
       "      <td>On-Demand Washing &amp; Dry Cleaning Services</td>\n",
       "      <td>New Delhi</td>\n",
       "      <td>Kedar Lele, GHV Accelerator</td>\n",
       "      <td>Seed Funding</td>\n",
       "      <td>200000</td>\n",
       "      <td>201611</td>\n",
       "      <td>2016</td>\n",
       "      <td>January</td>\n",
       "    </tr>\n",
       "  </tbody>\n",
       "</table>\n",
       "</div>"
      ],
      "text/plain": [
       "       SNo       Date    StartupName   IndustryVertical  \\\n",
       "1187  1188 2016-01-11  PickMyLaundry  Consumer Internet   \n",
       "\n",
       "                                    SubVertical       City  \\\n",
       "1187  On-Demand Washing & Dry Cleaning Services  New Delhi   \n",
       "\n",
       "                    InvestorsName InvestmentType  AmountInUSD  yearmonth  \\\n",
       "1187  Kedar Lele, GHV Accelerator   Seed Funding       200000     201611   \n",
       "\n",
       "      year    month  \n",
       "1187  2016  January  "
      ]
     },
     "execution_count": 204,
     "metadata": {},
     "output_type": "execute_result"
    }
   ],
   "source": [
    "df2['AmountInUSD'] = df2['AmountInUSD'].astype(int)\n",
    "\n",
    "df2.sample()"
   ]
  },
  {
   "cell_type": "code",
   "execution_count": 143,
   "id": "48b5996a",
   "metadata": {},
   "outputs": [
    {
     "name": "stderr",
     "output_type": "stream",
     "text": [
      "C:\\Users\\OMOLADE ADEFUNKE\\AppData\\Local\\Temp\\ipykernel_12964\\191818712.py:1: FutureWarning: Indexing with multiple keys (implicitly converted to a tuple of keys) will be deprecated, use a list instead.\n",
      "  df2.groupby('City')['year', 'AmountInUSD'].max()\n"
     ]
    },
    {
     "data": {
      "text/html": [
       "<div>\n",
       "<style scoped>\n",
       "    .dataframe tbody tr th:only-of-type {\n",
       "        vertical-align: middle;\n",
       "    }\n",
       "\n",
       "    .dataframe tbody tr th {\n",
       "        vertical-align: top;\n",
       "    }\n",
       "\n",
       "    .dataframe thead th {\n",
       "        text-align: right;\n",
       "    }\n",
       "</style>\n",
       "<table border=\"1\" class=\"dataframe\">\n",
       "  <thead>\n",
       "    <tr style=\"text-align: right;\">\n",
       "      <th></th>\n",
       "      <th>year</th>\n",
       "      <th>AmountInUSD</th>\n",
       "    </tr>\n",
       "    <tr>\n",
       "      <th>City</th>\n",
       "      <th></th>\n",
       "      <th></th>\n",
       "    </tr>\n",
       "  </thead>\n",
       "  <tbody>\n",
       "    <tr>\n",
       "      <th>Agra</th>\n",
       "      <td>2016</td>\n",
       "      <td>-999</td>\n",
       "    </tr>\n",
       "    <tr>\n",
       "      <th>Ahemadabad</th>\n",
       "      <td>2018</td>\n",
       "      <td>6230000</td>\n",
       "    </tr>\n",
       "    <tr>\n",
       "      <th>Ahemdabad</th>\n",
       "      <td>2018</td>\n",
       "      <td>-999</td>\n",
       "    </tr>\n",
       "    <tr>\n",
       "      <th>Ahmedabad</th>\n",
       "      <td>2018</td>\n",
       "      <td>32000000</td>\n",
       "    </tr>\n",
       "    <tr>\n",
       "      <th>Amritsar</th>\n",
       "      <td>2019</td>\n",
       "      <td>300000</td>\n",
       "    </tr>\n",
       "    <tr>\n",
       "      <th>...</th>\n",
       "      <td>...</td>\n",
       "      <td>...</td>\n",
       "    </tr>\n",
       "    <tr>\n",
       "      <th>Udaipur</th>\n",
       "      <td>2018</td>\n",
       "      <td>500000</td>\n",
       "    </tr>\n",
       "    <tr>\n",
       "      <th>Udupi</th>\n",
       "      <td>2017</td>\n",
       "      <td>12000000</td>\n",
       "    </tr>\n",
       "    <tr>\n",
       "      <th>Uttar Pradesh</th>\n",
       "      <td>2017</td>\n",
       "      <td>-999</td>\n",
       "    </tr>\n",
       "    <tr>\n",
       "      <th>Vadodara</th>\n",
       "      <td>2017</td>\n",
       "      <td>4000000</td>\n",
       "    </tr>\n",
       "    <tr>\n",
       "      <th>Varanasi</th>\n",
       "      <td>2016</td>\n",
       "      <td>52000</td>\n",
       "    </tr>\n",
       "  </tbody>\n",
       "</table>\n",
       "<p>107 rows × 2 columns</p>\n",
       "</div>"
      ],
      "text/plain": [
       "               year  AmountInUSD\n",
       "City                            \n",
       "Agra           2016         -999\n",
       "Ahemadabad     2018      6230000\n",
       "Ahemdabad      2018         -999\n",
       "Ahmedabad      2018     32000000\n",
       "Amritsar       2019       300000\n",
       "...             ...          ...\n",
       "Udaipur        2018       500000\n",
       "Udupi          2017     12000000\n",
       "Uttar Pradesh  2017         -999\n",
       "Vadodara       2017      4000000\n",
       "Varanasi       2016        52000\n",
       "\n",
       "[107 rows x 2 columns]"
      ]
     },
     "execution_count": 143,
     "metadata": {},
     "output_type": "execute_result"
    }
   ],
   "source": [
    "df2.groupby('City')['year', 'AmountInUSD'].max()"
   ]
  },
  {
   "cell_type": "markdown",
   "id": "5c2c55bf",
   "metadata": {},
   "source": [
    "#### How Does the Funding Ecosystem changes with respect to Time?"
   ]
  },
  {
   "cell_type": "code",
   "execution_count": 90,
   "id": "8495e6ee",
   "metadata": {},
   "outputs": [
    {
     "data": {
      "image/png": "[encoded data removed]",
      "text/plain": [
       "<Figure size 1200x600 with 1 Axes>"
      ]
     },
     "metadata": {},
     "output_type": "display_data"
    }
   ],
   "source": [
    "plt.figure(figsize = (12,6))\n",
    "sns.barplot(data = df2, x = 'year',  y = 'AmountInUSD', hue = 'month')\n",
    "plt.legend(loc = [1, 0])\n",
    "plt.show()"
   ]
  },
  {
   "cell_type": "code",
   "execution_count": 50,
   "id": "195d5a7b",
   "metadata": {},
   "outputs": [
    {
     "name": "stdout",
     "output_type": "stream",
     "text": [
      "From the barplot above, we can see that funding gradually increased across the years until 2019 where we had very high funding ecosystem in June and very low funding in August\n"
     ]
    }
   ],
   "source": [
    "print(\"From the barplot above, we can see that funding gradually increased across the years until 2019 where we had very high funding ecosystem in June and very low funding in August\")"
   ]
  },
  {
   "cell_type": "markdown",
   "id": "991fbe9f",
   "metadata": {},
   "source": [
    "#### What is the General Amount that Startups get in India?"
   ]
  },
  {
   "cell_type": "code",
   "execution_count": 206,
   "id": "dbf2c0e4",
   "metadata": {},
   "outputs": [
    {
     "data": {
      "text/plain": [
       "count    3.040000e+03\n",
       "mean     9.747102e+06\n",
       "std      8.348004e+07\n",
       "min     -2.147484e+09\n",
       "25%     -9.990000e+02\n",
       "50%      5.000000e+05\n",
       "75%      4.000000e+06\n",
       "max      1.510950e+09\n",
       "Name: AmountInUSD, dtype: float64"
      ]
     },
     "execution_count": 206,
     "metadata": {},
     "output_type": "execute_result"
    }
   ],
   "source": [
    "amount = df2['AmountInUSD'].describe()\n",
    "\n",
    "amount"
   ]
  },
  {
   "cell_type": "code",
   "execution_count": 212,
   "id": "06e835c6",
   "metadata": {},
   "outputs": [
    {
     "name": "stdout",
     "output_type": "stream",
     "text": [
      "The General Amount Startups get in India is 3040.0\n"
     ]
    }
   ],
   "source": [
    "print(f\"The General Amount Startups get in India is {amount[0]}\")"
   ]
  },
  {
   "cell_type": "markdown",
   "id": "61da91a7",
   "metadata": {},
   "source": [
    "#### Which Kind of Industries are more preferred for Startups?"
   ]
  },
  {
   "cell_type": "code",
   "execution_count": 99,
   "id": "659395cb",
   "metadata": {},
   "outputs": [
    {
     "data": {
      "text/plain": [
       "Consumer Internet    941\n",
       "Technology           478\n",
       "eCommerce            186\n",
       "Healthcare            70\n",
       "Finance               62\n",
       "Name: IndustryVertical, dtype: int64"
      ]
     },
     "execution_count": 99,
     "metadata": {},
     "output_type": "execute_result"
    }
   ],
   "source": [
    "df2['IndustryVertical'].value_counts()[:5]"
   ]
  },
  {
   "cell_type": "code",
   "execution_count": 103,
   "id": "766c5d37",
   "metadata": {},
   "outputs": [
    {
     "name": "stdout",
     "output_type": "stream",
     "text": [
      "The most preferred Kind of Industry for Startups with 941 number of occurences is 'Consumer Internet'\n"
     ]
    }
   ],
   "source": [
    "print(f\"The most preferred Kind of Industry for Startups with {df2['IndustryVertical'].value_counts()[0]} number of occurences is 'Consumer Internet'\")"
   ]
  },
  {
   "cell_type": "markdown",
   "id": "acbe217b",
   "metadata": {},
   "source": [
    "#### Does Location also play a role, In determining the Growth of a Startup?"
   ]
  },
  {
   "cell_type": "code",
   "execution_count": 111,
   "id": "d091bb85",
   "metadata": {},
   "outputs": [
    {
     "data": {
      "text/plain": [
       "count          2864\n",
       "unique          107\n",
       "top       Bangalore\n",
       "freq            701\n",
       "Name: City, dtype: object"
      ]
     },
     "execution_count": 111,
     "metadata": {},
     "output_type": "execute_result"
    }
   ],
   "source": [
    "df2['City'].describe()"
   ]
  },
  {
   "cell_type": "code",
   "execution_count": 213,
   "id": "9eee5bab",
   "metadata": {},
   "outputs": [
    {
     "name": "stdout",
     "output_type": "stream",
     "text": [
      "Most likely where a Startup is located is a determining factor to its growth. This is because out of 107 unique locations,\n",
      "many Startups were sighted at Bangalore for better growth\n"
     ]
    }
   ],
   "source": [
    "print(f'''Most likely where a Startup is located is a determining factor to its growth. This is because out of {df2['City'].describe()[1]} unique locations,\n",
    "many Startups were sighted at {df2['City'].describe()[2]} for better growth''')"
   ]
  },
  {
   "cell_type": "markdown",
   "id": "7447b79d",
   "metadata": {},
   "source": [
    "#### Who plays the main role in Indian Startups Ecosystem?"
   ]
  },
  {
   "cell_type": "code",
   "execution_count": 118,
   "id": "74169466",
   "metadata": {},
   "outputs": [
    {
     "data": {
      "text/plain": [
       "count                      3020\n",
       "unique                     2408\n",
       "top       Undisclosed Investors\n",
       "freq                         39\n",
       "Name: InvestorsName, dtype: object"
      ]
     },
     "execution_count": 118,
     "metadata": {},
     "output_type": "execute_result"
    }
   ],
   "source": [
    "df2['InvestorsName'].describe()"
   ]
  },
  {
   "cell_type": "code",
   "execution_count": 124,
   "id": "0d1c614b",
   "metadata": {},
   "outputs": [
    {
     "name": "stdout",
     "output_type": "stream",
     "text": [
      "Investors play the main role in India Startups. From the data provided, Undisclosed Investors are the major role players\n"
     ]
    }
   ],
   "source": [
    "print(f\"Investors play the main role in India Startups. From the data provided, {df2['InvestorsName'].describe()[2]} are the major role players\")"
   ]
  },
  {
   "cell_type": "markdown",
   "id": "8042106a",
   "metadata": {},
   "source": [
    "#### What are the different Types of Funding for Startups?"
   ]
  },
  {
   "cell_type": "code",
   "execution_count": 214,
   "id": "3e84b302",
   "metadata": {},
   "outputs": [
    {
     "name": "stdout",
     "output_type": "stream",
     "text": [
      "The different types of funding for Startups include ['Private Equity Round' 'Series C' 'Series B' 'Pre-series A' 'Seed Round'\n",
      " 'Series A' 'Series D' 'Seed' 'Series G' 'Series H' 'Venture'\n",
      " 'Debt Funding' 'Seed Funding' nan 'Funding Round' 'Corporate Round'\n",
      " 'Maiden Round' 'pre-series A' 'Seed Funding Round' 'Single Venture'\n",
      " 'Venture Round' 'Series F' 'Pre-Series A' 'Angel' 'Series J'\n",
      " 'Angel Round' 'pre-Series A' 'Venture - Series Unknown' 'Bridge Round'\n",
      " 'Private Equity' 'Debt and Preference capital' 'Inhouse Funding'\n",
      " 'Seed/ Angel Funding' 'Debt' 'Pre Series A' 'Equity' 'Debt-Funding'\n",
      " 'Mezzanine' 'Series B (Extension)' 'Equity Based Funding' 'Series E'\n",
      " 'Private Funding' 'Seed / Angel Funding' 'Seed/Angel Funding'\n",
      " 'Seed funding' 'Seed / Angle Funding' 'Angel / Seed Funding' 'Private'\n",
      " 'Structured Debt' 'Term Loan' 'PrivateEquity' 'Angel Funding'\n",
      " 'Seed\\\\\\\\nFunding' 'Private\\\\\\\\nEquity' 'Crowd funding' 'Crowd Funding']\n"
     ]
    }
   ],
   "source": [
    "df2['InvestmentType'].unique()\n",
    "\n",
    "print(f\"The different types of funding for Startups include {df2['InvestmentType'].unique()}\")"
   ]
  }
 ],
 "metadata": {
  "kernelspec": {
   "display_name": "Python 3 (ipykernel)",
   "language": "python",
   "name": "python3"
  },
  "language_info": {
   "codemirror_mode": {
    "name": "ipython",
    "version": 3
   },
   "file_extension": ".py",
   "mimetype": "text/x-python",
   "name": "python",
   "nbconvert_exporter": "python",
   "pygments_lexer": "ipython3",
   "version": "3.11.4"
  }
 },
 "nbformat": 4,
 "nbformat_minor": 5
}
